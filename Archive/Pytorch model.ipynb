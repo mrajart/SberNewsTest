{
 "cells": [
  {
   "cell_type": "code",
   "execution_count": 1,
   "id": "3f9428dd",
   "metadata": {},
   "outputs": [],
   "source": [
    "import os\n",
    "import gc\n",
    "import copy\n",
    "import time\n",
    "import random\n",
    "import string\n",
    "\n",
    "# For data manipulation\n",
    "import numpy as np\n",
    "import pandas as pd\n",
    "\n",
    "# Pytorch Imports\n",
    "import torch\n",
    "import torch.nn as nn\n",
    "import torch.optim as optim\n",
    "from torch.optim import lr_scheduler\n",
    "from torch.utils.data import Dataset, DataLoader\n",
    "from torchvision.ops import sigmoid_focal_loss\n",
    "\n",
    "# Utils\n",
    "from tqdm import tqdm\n",
    "from collections import defaultdict\n",
    "import matplotlib.pyplot as plt\n",
    "\n",
    "# Sklearn Imports\n",
    "from sklearn import metrics\n",
    "from sklearn.model_selection import train_test_split, StratifiedKFold\n",
    "from sklearn.utils.class_weight import compute_class_weight\n",
    "\n",
    "#Text Cleaning\n",
    "from bs4 import BeautifulSoup\n",
    "import re \n",
    "\n",
    "# For Transformer Models\n",
    "from transformers import AutoTokenizer, AutoModel, AdamW\n",
    "\n",
    "# Suppress warnings\n",
    "import warnings\n",
    "warnings.filterwarnings(\"ignore\")\n",
    "\n",
    "# For descriptive error messages\n",
    "os.environ['CUDA_LAUNCH_BLOCKING'] = \"1\"\n"
   ]
  },
  {
   "cell_type": "code",
   "execution_count": 2,
   "id": "47b6e203",
   "metadata": {},
   "outputs": [
    {
     "data": {
      "text/plain": [
       "True"
      ]
     },
     "execution_count": 2,
     "metadata": {},
     "output_type": "execute_result"
    }
   ],
   "source": [
    "torch.cuda.is_available()"
   ]
  },
  {
   "cell_type": "code",
   "execution_count": 3,
   "id": "ab218a93",
   "metadata": {},
   "outputs": [
    {
     "data": {
      "text/html": [
       "<div>\n",
       "<style scoped>\n",
       "    .dataframe tbody tr th:only-of-type {\n",
       "        vertical-align: middle;\n",
       "    }\n",
       "\n",
       "    .dataframe tbody tr th {\n",
       "        vertical-align: top;\n",
       "    }\n",
       "\n",
       "    .dataframe thead th {\n",
       "        text-align: right;\n",
       "    }\n",
       "</style>\n",
       "<table border=\"1\" class=\"dataframe\">\n",
       "  <thead>\n",
       "    <tr style=\"text-align: right;\">\n",
       "      <th></th>\n",
       "      <th>sentence</th>\n",
       "      <th>label</th>\n",
       "    </tr>\n",
       "  </thead>\n",
       "  <tbody>\n",
       "    <tr>\n",
       "      <th>0</th>\n",
       "      <td>Срыв сроков строительства зоопарка оценили в 1...</td>\n",
       "      <td>1</td>\n",
       "    </tr>\n",
       "    <tr>\n",
       "      <th>1</th>\n",
       "      <td>По данным Генпрокуратуры РФ, в 2014-2018 годах...</td>\n",
       "      <td>1</td>\n",
       "    </tr>\n",
       "    <tr>\n",
       "      <th>2</th>\n",
       "      <td>Обвиняли в этом столичный акимат, который сорв...</td>\n",
       "      <td>1</td>\n",
       "    </tr>\n",
       "    <tr>\n",
       "      <th>3</th>\n",
       "      <td>Запуск циклотронного центра ядерной медицины н...</td>\n",
       "      <td>1</td>\n",
       "    </tr>\n",
       "    <tr>\n",
       "      <th>4</th>\n",
       "      <td>Сроки сдачи объекта несколько раз переносились.</td>\n",
       "      <td>1</td>\n",
       "    </tr>\n",
       "  </tbody>\n",
       "</table>\n",
       "</div>"
      ],
      "text/plain": [
       "                                            sentence  label\n",
       "0  Срыв сроков строительства зоопарка оценили в 1...      1\n",
       "1  По данным Генпрокуратуры РФ, в 2014-2018 годах...      1\n",
       "2  Обвиняли в этом столичный акимат, который сорв...      1\n",
       "3  Запуск циклотронного центра ядерной медицины н...      1\n",
       "4    Сроки сдачи объекта несколько раз переносились.      1"
      ]
     },
     "execution_count": 3,
     "metadata": {},
     "output_type": "execute_result"
    }
   ],
   "source": [
    "df = pd.read_csv(\"input/train_data.csv\", index_col=0)\n",
    "df.head()"
   ]
  },
  {
   "cell_type": "code",
   "execution_count": 4,
   "id": "e8e3b2eb",
   "metadata": {},
   "outputs": [
    {
     "name": "stdout",
     "output_type": "stream",
     "text": [
      "0    1340\n",
      "1     329\n",
      "Name: label, dtype: int64\n"
     ]
    },
    {
     "data": {
      "text/plain": [
       "Text(0.5, 1.0, 'Distribution of Labels')"
      ]
     },
     "execution_count": 4,
     "metadata": {},
     "output_type": "execute_result"
    },
    {
     "data": {
      "image/png": "[encoded data removed]",
      "text/plain": [
       "<Figure size 432x288 with 1 Axes>"
      ]
     },
     "metadata": {
      "needs_background": "light"
     },
     "output_type": "display_data"
    }
   ],
   "source": [
    "print(df['label'].value_counts())\n",
    "df['label'].value_counts().plot.bar()\n",
    "plt.title('Distribution of Labels')"
   ]
  },
  {
   "cell_type": "code",
   "execution_count": 5,
   "id": "1709fa3b",
   "metadata": {},
   "outputs": [],
   "source": [
    "CONFIG = {\"seed\": 2021,\n",
    "          \"epochs\": 4,\n",
    "          \"model_name\": \"DeepPavlov/rubert-base-cased\",\n",
    "          \"train_batch_size\": 24,\n",
    "          \"valid_batch_size\": 46,\n",
    "          \"max_length\": 100,\n",
    "          \"learning_rate\": 1e-5,\n",
    "          \"epsilon\" : 1e-6,\n",
    "          \"weight_decay\": 1e-5,\n",
    "          \"n_fold\": 5,\n",
    "          \"num_classes\": 1,\n",
    "          \"patience\": 2,\n",
    "          \"device\": torch.device(\"cuda:0\" if torch.cuda.is_available() else \"cpu\"),\n",
    "          }\n",
    "\n",
    "CONFIG[\"tokenizer\"] = AutoTokenizer.from_pretrained(CONFIG['model_name'])"
   ]
  },
  {
   "cell_type": "code",
   "execution_count": 6,
   "id": "28967ea4",
   "metadata": {},
   "outputs": [],
   "source": [
    "def set_seed(seed=42):\n",
    "    '''Sets the seed of the entire notebook so results are the same every time we run.\n",
    "    This is for REPRODUCIBILITY.'''\n",
    "    np.random.seed(seed)\n",
    "    torch.manual_seed(seed)\n",
    "    torch.cuda.manual_seed(seed)\n",
    "    # When running on the CuDNN backend, two further options must be set\n",
    "    torch.backends.cudnn.deterministic = True\n",
    "    torch.backends.cudnn.benchmark = False\n",
    "    # Set a fixed value for the hash seed\n",
    "    os.environ['PYTHONHASHSEED'] = str(seed)\n",
    "    \n",
    "set_seed(CONFIG['seed'])"
   ]
  },
  {
   "cell_type": "code",
   "execution_count": 7,
   "id": "e80b5700",
   "metadata": {},
   "outputs": [
    {
     "data": {
      "text/plain": [
       "\"df_train, df_valid = train_test_split(df, test_size=0.2, random_state=CONFIG['seed'])\""
      ]
     },
     "execution_count": 7,
     "metadata": {},
     "output_type": "execute_result"
    }
   ],
   "source": [
    "'''df_train, df_valid = train_test_split(df, test_size=0.2, random_state=CONFIG['seed'])'''"
   ]
  },
  {
   "cell_type": "code",
   "execution_count": 8,
   "id": "b40b15d1",
   "metadata": {},
   "outputs": [
    {
     "data": {
      "text/plain": [
       "'df_train = df_train.reset_index(drop=True)\\ndf_valid = df_valid.reset_index(drop=True)'"
      ]
     },
     "execution_count": 8,
     "metadata": {},
     "output_type": "execute_result"
    }
   ],
   "source": [
    "'''df_train = df_train.reset_index(drop=True)\n",
    "df_valid = df_valid.reset_index(drop=True)'''"
   ]
  },
  {
   "cell_type": "code",
   "execution_count": 9,
   "id": "a1933ddc",
   "metadata": {},
   "outputs": [
    {
     "data": {
      "text/plain": [
       "'df_train.head()'"
      ]
     },
     "execution_count": 9,
     "metadata": {},
     "output_type": "execute_result"
    }
   ],
   "source": [
    "'''df_train.head()'''"
   ]
  },
  {
   "cell_type": "code",
   "execution_count": 10,
   "id": "6ead45fb",
   "metadata": {},
   "outputs": [
    {
     "data": {
      "text/plain": [
       "'df_valid.head()'"
      ]
     },
     "execution_count": 10,
     "metadata": {},
     "output_type": "execute_result"
    }
   ],
   "source": [
    "'''df_valid.head()'''"
   ]
  },
  {
   "cell_type": "code",
   "execution_count": 11,
   "id": "e9f7d35a",
   "metadata": {},
   "outputs": [],
   "source": [
    "def text_cleaning(text):\n",
    "    '''\n",
    "    Cleans text into a basic form for NLP. Operations include the following:-\n",
    "    1. Remove special charecters like &, #, etc\n",
    "    2. Removes extra spaces\n",
    "    3. Removes embedded URL links\n",
    "    4. Removes HTML tags\n",
    "    5. Removes emojis\n",
    "    \n",
    "    text - Text piece to be cleaned.\n",
    "    '''\n",
    "    template = re.compile(r'https?://\\S+|www\\.\\S+') #Removes website links\n",
    "    text = template.sub(r'', text)\n",
    "    \n",
    "    soup = BeautifulSoup(text, 'lxml') #Removes HTML tags\n",
    "    only_text = soup.get_text()\n",
    "    text = only_text\n",
    "    \n",
    "    emoji_pattern = re.compile(\"[\"\n",
    "                               u\"\\U0001F600-\\U0001F64F\"  # emoticons\n",
    "                               u\"\\U0001F300-\\U0001F5FF\"  # symbols & pictographs\n",
    "                               u\"\\U0001F680-\\U0001F6FF\"  # transport & map symbols\n",
    "                               u\"\\U0001F1E0-\\U0001F1FF\"  # flags (iOS)\n",
    "                               u\"\\U00002702-\\U000027B0\"\n",
    "                               u\"\\U000024C2-\\U0001F251\"\n",
    "                               \"]+\", flags=re.UNICODE)\n",
    "    text = emoji_pattern.sub(r'', text)\n",
    "    \n",
    "    text = re.sub(' +', ' ', text) #Remove Extra Spaces\n",
    "    text = text.strip() # remove spaces at the beginning and at the end of string\n",
    "\n",
    "    return text"
   ]
  },
  {
   "cell_type": "code",
   "execution_count": 12,
   "id": "61cbfb69",
   "metadata": {},
   "outputs": [],
   "source": [
    "df.sentence = df.sentence.apply(text_cleaning)"
   ]
  },
  {
   "cell_type": "code",
   "execution_count": 13,
   "id": "6e4c74e8",
   "metadata": {},
   "outputs": [
    {
     "data": {
      "text/plain": [
       "0       Срыв сроков строительства зоопарка оценили в 1...\n",
       "1       По данным Генпрокуратуры РФ, в 2014-2018 годах...\n",
       "2       Обвиняли в этом столичный акимат, который сорв...\n",
       "3       Запуск циклотронного центра ядерной медицины н...\n",
       "4         Сроки сдачи объекта несколько раз переносились.\n",
       "                              ...                        \n",
       "1664    Подрядчик ООО «АльянсДорСтрой» должен сдать об...\n",
       "1665    Он заявил, что запуск ракеты-носителя сверхтяж...\n",
       "1666    Застройщик ЖК \"Медовая Долина\" планирует ввест...\n",
       "1667    Официальные сроки, указанные в проектной декла...\n",
       "1668    Он потребовал «выдержать намеченные сроки» стр...\n",
       "Name: sentence, Length: 1669, dtype: object"
      ]
     },
     "execution_count": 13,
     "metadata": {},
     "output_type": "execute_result"
    }
   ],
   "source": [
    "df.sentence"
   ]
  },
  {
   "cell_type": "code",
   "execution_count": 14,
   "id": "49d9f8de",
   "metadata": {},
   "outputs": [
    {
     "data": {
      "text/html": [
       "<div>\n",
       "<style scoped>\n",
       "    .dataframe tbody tr th:only-of-type {\n",
       "        vertical-align: middle;\n",
       "    }\n",
       "\n",
       "    .dataframe tbody tr th {\n",
       "        vertical-align: top;\n",
       "    }\n",
       "\n",
       "    .dataframe thead th {\n",
       "        text-align: right;\n",
       "    }\n",
       "</style>\n",
       "<table border=\"1\" class=\"dataframe\">\n",
       "  <thead>\n",
       "    <tr style=\"text-align: right;\">\n",
       "      <th></th>\n",
       "      <th>sentence</th>\n",
       "      <th>label</th>\n",
       "      <th>kfold</th>\n",
       "    </tr>\n",
       "  </thead>\n",
       "  <tbody>\n",
       "    <tr>\n",
       "      <th>0</th>\n",
       "      <td>Срыв сроков строительства зоопарка оценили в 1...</td>\n",
       "      <td>1</td>\n",
       "      <td>4</td>\n",
       "    </tr>\n",
       "    <tr>\n",
       "      <th>1</th>\n",
       "      <td>По данным Генпрокуратуры РФ, в 2014-2018 годах...</td>\n",
       "      <td>1</td>\n",
       "      <td>3</td>\n",
       "    </tr>\n",
       "    <tr>\n",
       "      <th>2</th>\n",
       "      <td>Обвиняли в этом столичный акимат, который сорв...</td>\n",
       "      <td>1</td>\n",
       "      <td>3</td>\n",
       "    </tr>\n",
       "    <tr>\n",
       "      <th>3</th>\n",
       "      <td>Запуск циклотронного центра ядерной медицины н...</td>\n",
       "      <td>1</td>\n",
       "      <td>4</td>\n",
       "    </tr>\n",
       "    <tr>\n",
       "      <th>4</th>\n",
       "      <td>Сроки сдачи объекта несколько раз переносились.</td>\n",
       "      <td>1</td>\n",
       "      <td>1</td>\n",
       "    </tr>\n",
       "  </tbody>\n",
       "</table>\n",
       "</div>"
      ],
      "text/plain": [
       "                                            sentence  label  kfold\n",
       "0  Срыв сроков строительства зоопарка оценили в 1...      1      4\n",
       "1  По данным Генпрокуратуры РФ, в 2014-2018 годах...      1      3\n",
       "2  Обвиняли в этом столичный акимат, который сорв...      1      3\n",
       "3  Запуск циклотронного центра ядерной медицины н...      1      4\n",
       "4    Сроки сдачи объекта несколько раз переносились.      1      1"
      ]
     },
     "execution_count": 14,
     "metadata": {},
     "output_type": "execute_result"
    }
   ],
   "source": [
    "skf = StratifiedKFold(n_splits=CONFIG['n_fold'], shuffle=True, random_state=CONFIG['seed'])\n",
    "\n",
    "for fold, ( _, val_) in enumerate(skf.split(X=df.sentence, y=df.label)):\n",
    "    df.loc[val_ , \"kfold\"] = int(fold)\n",
    "    \n",
    "df[\"kfold\"] = df[\"kfold\"].astype(int)\n",
    "df.head()"
   ]
  },
  {
   "cell_type": "code",
   "execution_count": 15,
   "id": "52627f56",
   "metadata": {},
   "outputs": [
    {
     "data": {
      "text/html": [
       "<div>\n",
       "<style scoped>\n",
       "    .dataframe tbody tr th:only-of-type {\n",
       "        vertical-align: middle;\n",
       "    }\n",
       "\n",
       "    .dataframe tbody tr th {\n",
       "        vertical-align: top;\n",
       "    }\n",
       "\n",
       "    .dataframe thead th {\n",
       "        text-align: right;\n",
       "    }\n",
       "</style>\n",
       "<table border=\"1\" class=\"dataframe\">\n",
       "  <thead>\n",
       "    <tr style=\"text-align: right;\">\n",
       "      <th></th>\n",
       "      <th>sentence</th>\n",
       "      <th>label</th>\n",
       "      <th>kfold</th>\n",
       "    </tr>\n",
       "  </thead>\n",
       "  <tbody>\n",
       "    <tr>\n",
       "      <th>0</th>\n",
       "      <td>Срыв сроков строительства зоопарка оценили в 1...</td>\n",
       "      <td>1</td>\n",
       "      <td>4</td>\n",
       "    </tr>\n",
       "    <tr>\n",
       "      <th>1</th>\n",
       "      <td>По данным Генпрокуратуры РФ, в 2014-2018 годах...</td>\n",
       "      <td>1</td>\n",
       "      <td>3</td>\n",
       "    </tr>\n",
       "    <tr>\n",
       "      <th>2</th>\n",
       "      <td>Обвиняли в этом столичный акимат, который сорв...</td>\n",
       "      <td>1</td>\n",
       "      <td>3</td>\n",
       "    </tr>\n",
       "    <tr>\n",
       "      <th>3</th>\n",
       "      <td>Запуск циклотронного центра ядерной медицины н...</td>\n",
       "      <td>1</td>\n",
       "      <td>4</td>\n",
       "    </tr>\n",
       "    <tr>\n",
       "      <th>4</th>\n",
       "      <td>Сроки сдачи объекта несколько раз переносились.</td>\n",
       "      <td>1</td>\n",
       "      <td>1</td>\n",
       "    </tr>\n",
       "    <tr>\n",
       "      <th>...</th>\n",
       "      <td>...</td>\n",
       "      <td>...</td>\n",
       "      <td>...</td>\n",
       "    </tr>\n",
       "    <tr>\n",
       "      <th>1664</th>\n",
       "      <td>Подрядчик ООО «АльянсДорСтрой» должен сдать об...</td>\n",
       "      <td>0</td>\n",
       "      <td>1</td>\n",
       "    </tr>\n",
       "    <tr>\n",
       "      <th>1665</th>\n",
       "      <td>Он заявил, что запуск ракеты-носителя сверхтяж...</td>\n",
       "      <td>0</td>\n",
       "      <td>3</td>\n",
       "    </tr>\n",
       "    <tr>\n",
       "      <th>1666</th>\n",
       "      <td>Застройщик ЖК \"Медовая Долина\" планирует ввест...</td>\n",
       "      <td>0</td>\n",
       "      <td>3</td>\n",
       "    </tr>\n",
       "    <tr>\n",
       "      <th>1667</th>\n",
       "      <td>Официальные сроки, указанные в проектной декла...</td>\n",
       "      <td>0</td>\n",
       "      <td>2</td>\n",
       "    </tr>\n",
       "    <tr>\n",
       "      <th>1668</th>\n",
       "      <td>Он потребовал «выдержать намеченные сроки» стр...</td>\n",
       "      <td>0</td>\n",
       "      <td>0</td>\n",
       "    </tr>\n",
       "  </tbody>\n",
       "</table>\n",
       "<p>1669 rows × 3 columns</p>\n",
       "</div>"
      ],
      "text/plain": [
       "                                               sentence  label  kfold\n",
       "0     Срыв сроков строительства зоопарка оценили в 1...      1      4\n",
       "1     По данным Генпрокуратуры РФ, в 2014-2018 годах...      1      3\n",
       "2     Обвиняли в этом столичный акимат, который сорв...      1      3\n",
       "3     Запуск циклотронного центра ядерной медицины н...      1      4\n",
       "4       Сроки сдачи объекта несколько раз переносились.      1      1\n",
       "...                                                 ...    ...    ...\n",
       "1664  Подрядчик ООО «АльянсДорСтрой» должен сдать об...      0      1\n",
       "1665  Он заявил, что запуск ракеты-носителя сверхтяж...      0      3\n",
       "1666  Застройщик ЖК \"Медовая Долина\" планирует ввест...      0      3\n",
       "1667  Официальные сроки, указанные в проектной декла...      0      2\n",
       "1668  Он потребовал «выдержать намеченные сроки» стр...      0      0\n",
       "\n",
       "[1669 rows x 3 columns]"
      ]
     },
     "execution_count": 15,
     "metadata": {},
     "output_type": "execute_result"
    }
   ],
   "source": [
    "df"
   ]
  },
  {
   "cell_type": "code",
   "execution_count": 16,
   "id": "0692659b",
   "metadata": {},
   "outputs": [
    {
     "data": {
      "text/plain": [
       "'class_counts = np.unique(df.label, return_counts=True)\\nclass_counts\\nclass_counts[1].sum()\\n[(class_counts[1].sum() - x)/ (x+1e-5) for i, x in enumerate(class_counts[1])]'"
      ]
     },
     "execution_count": 16,
     "metadata": {},
     "output_type": "execute_result"
    }
   ],
   "source": [
    "'''class_counts = np.unique(df.label, return_counts=True)\n",
    "class_counts\n",
    "class_counts[1].sum()\n",
    "[(class_counts[1].sum() - x)/ (x+1e-5) for i, x in enumerate(class_counts[1])]'''"
   ]
  },
  {
   "cell_type": "code",
   "execution_count": 17,
   "id": "7ba9ee6f",
   "metadata": {},
   "outputs": [],
   "source": [
    "class SberNewsDataset(Dataset):\n",
    "    def __init__(self, df, tokenizer, max_length):\n",
    "        self.df = df\n",
    "        self.max_len = max_length\n",
    "        self.tokenizer = tokenizer\n",
    "        self.text = df.sentence\n",
    "        self.targets = df['label']\n",
    "        \n",
    "    def __len__(self):\n",
    "        return len(self.df)\n",
    "    \n",
    "    def __getitem__(self, index):\n",
    "        text = self.text[index]\n",
    "        inputs = self.tokenizer.encode_plus(\n",
    "                                text,\n",
    "                                truncation=True,\n",
    "                                add_special_tokens=True,\n",
    "                                max_length=self.max_len,\n",
    "                                padding='max_length',\n",
    "                                return_token_type_ids=True\n",
    "                            )\n",
    "        target = np.array(self.targets[index])\n",
    "        \n",
    "        ids = inputs['input_ids']\n",
    "        mask = inputs['attention_mask']\n",
    "        token_type_ids = inputs[\"token_type_ids\"]\n",
    "        \n",
    "        \n",
    "        return {\n",
    "            'ids': torch.tensor(ids, dtype=torch.int),\n",
    "            'mask': torch.tensor(mask, dtype=torch.int),\n",
    "            'token_type_ids': torch.tensor(token_type_ids, dtype=torch.int),\n",
    "            'target': torch.tensor(target, dtype=torch.float)\n",
    "        }\n"
   ]
  },
  {
   "cell_type": "code",
   "execution_count": 18,
   "id": "22d229d4",
   "metadata": {},
   "outputs": [],
   "source": [
    "class SberNewsModel(nn.Module):\n",
    "    def __init__(self, model_name):\n",
    "        super(SberNewsModel, self).__init__()\n",
    "        self.model = AutoModel.from_pretrained(model_name)\n",
    "        self.drop = nn.Dropout(p=0.2)\n",
    "        self.fc = nn.Linear(768, CONFIG['num_classes'])\n",
    "        \n",
    "    def forward(self, ids, mask, token_type_ids):\n",
    "        _, features = self.model(input_ids=ids, attention_mask=mask, token_type_ids = token_type_ids, return_dict=False)\n",
    "        out = self.drop(features)\n",
    "        outputs = self.fc(out)\n",
    "        \n",
    "        return outputs.squeeze()"
   ]
  },
  {
   "cell_type": "code",
   "execution_count": 25,
   "id": "ae89d287",
   "metadata": {},
   "outputs": [],
   "source": [
    "def criterion(outputs, targets):\n",
    "    return torch.nn.BCEWithLogitsLoss()(outputs, targets)"
   ]
  },
  {
   "cell_type": "code",
   "execution_count": 28,
   "id": "e8a4e199",
   "metadata": {},
   "outputs": [],
   "source": [
    "def train_one_epoch(model, optimizer, dataloader, device, epoch):\n",
    "    model.train()\n",
    "    \n",
    "    dataset_size = 0\n",
    "    running_loss = 0.0\n",
    "    \n",
    "    #Automatic Mixed Precision\n",
    "    scaler = torch.cuda.amp.GradScaler()\n",
    "    #------------------\n",
    "    \n",
    "    score_batch = []\n",
    "    \n",
    "    bar = tqdm(enumerate(dataloader), total=len(dataloader))\n",
    "    for step, data in bar:\n",
    "            \n",
    "        \n",
    "        ids = data['ids'].to(device, dtype = torch.int)\n",
    "        mask = data['mask'].to(device, dtype = torch.int)\n",
    "        token_type_ids = data['token_type_ids'].to(device, dtype = torch.int)\n",
    "        targets = data['target'].to(device, dtype=torch.float)\n",
    "\n",
    "        batch_size = ids.size(0)\n",
    "\n",
    "        #Automatic Mixed Precision\n",
    "        with torch.cuda.amp.autocast():\n",
    "        #------------------\n",
    "            outputs = model(ids, mask, token_type_ids)\n",
    "            \n",
    "            #print(outputs)\n",
    "            #print(targets)\n",
    "            \n",
    "            loss = criterion(outputs, targets)\n",
    "            \n",
    "            \n",
    "        \n",
    "        #Automatic Mixed Precision\n",
    "        scaler.scale(loss).backward()\n",
    "        #------------------\n",
    "\n",
    "                \n",
    "        #optimizer.step()\n",
    "            \n",
    "        #Automatic Mixed Precision\n",
    "        scaler.step(optimizer)\n",
    "        scaler.update()\n",
    "        #------------------\n",
    "        optimizer.zero_grad()\n",
    " \n",
    "        running_loss += (loss.item() * batch_size)\n",
    "        dataset_size += batch_size\n",
    "\n",
    "        epoch_loss = running_loss / dataset_size\n",
    "\n",
    "        bar.set_postfix(Epoch=epoch, Train_Loss=epoch_loss,\n",
    "                            LR=optimizer.param_groups[0]['lr'])\n",
    "    gc.collect()\n",
    "    return epoch_loss\n"
   ]
  },
  {
   "cell_type": "code",
   "execution_count": 29,
   "id": "febba625",
   "metadata": {},
   "outputs": [],
   "source": [
    "@torch.no_grad()\n",
    "def valid_one_epoch(model, dataloader, device, epoch):\n",
    "    model.eval()\n",
    "    \n",
    "    dataset_size = 0\n",
    "    running_loss = 0.0\n",
    "    \n",
    "    accuracy_batch = []\n",
    "    balanced_accuracy_score_batch = []\n",
    "    \n",
    "    epoch_targets=[]\n",
    "    epoch_outputs=[]\n",
    "    \n",
    "    bar = tqdm(enumerate(dataloader), total=len(dataloader))\n",
    "    for step, data in bar:        \n",
    "        ids = data['ids'].to(device, dtype = torch.int)\n",
    "        mask = data['mask'].to(device, dtype = torch.int)\n",
    "        token_type_ids = data['token_type_ids'].to(device, dtype = torch.int)\n",
    "        targets = data['target'].to(device, dtype=torch.float)\n",
    "        \n",
    "        batch_size = ids.size(0)\n",
    "\n",
    "        outputs = model(ids, mask, token_type_ids)\n",
    "        \n",
    "        loss = criterion(outputs, targets)\n",
    "        \n",
    "        #print(f\"outputs ({outputs})\")\n",
    "        epoch_targets.extend(targets.cpu().detach().numpy().tolist())\n",
    "        epoch_outputs.extend(torch.sigmoid(outputs).cpu().detach().numpy().tolist())\n",
    "        \n",
    "        #print(f\"out_detach_sigmoid ({out_detach_sigmoid})\")\n",
    "        #print(f\"targets_detach ({targets_detach})\")\n",
    "        \n",
    "        #print(f\"accuracy_batch ({accuracy_batch})\")\n",
    "        \n",
    "        running_loss += (loss.item() * batch_size)\n",
    "        dataset_size += batch_size\n",
    "        \n",
    "        epoch_loss = running_loss / dataset_size\n",
    "        \n",
    "        epoch_accuracy = np.mean(accuracy_batch)\n",
    "        epoch_balanced_accuracy_score = np.mean(balanced_accuracy_score_batch)\n",
    "        \n",
    "        bar.set_postfix(Epoch=epoch, Valid_Loss=epoch_loss,\n",
    "                        LR=optimizer.param_groups[0]['lr'])   \n",
    "    \n",
    "    gc.collect()\n",
    "    return epoch_loss, epoch_outputs, epoch_targets\n"
   ]
  },
  {
   "cell_type": "code",
   "execution_count": 30,
   "id": "e5ae106a",
   "metadata": {},
   "outputs": [],
   "source": [
    "def run_training(model, optimizer, device, num_epochs, fold):\n",
    "    \n",
    "    if torch.cuda.is_available():\n",
    "        print(\"[INFO] Using GPU: {}\\n\".format(torch.cuda.get_device_name()))\n",
    "    \n",
    "    start = time.time()\n",
    "    best_model_wts = copy.deepcopy(model.state_dict())\n",
    "    best_epoch_loss = np.inf\n",
    "    history = defaultdict(list)\n",
    "    \n",
    "    epochs_no_improve = 0\n",
    "    \n",
    "    for epoch in range(1, num_epochs + 1): \n",
    "        gc.collect()\n",
    "        train_epoch_loss = train_one_epoch(model, optimizer,  \n",
    "                                           dataloader=train_loader, \n",
    "                                           device=CONFIG['device'], epoch=epoch)\n",
    "        \n",
    "        val_epoch_loss, epoch_outputs, epoch_targets = valid_one_epoch(model, valid_loader, device=CONFIG['device'], \n",
    "                                         epoch=epoch)\n",
    "        #print(f\"Validation epoch_outputs ({epoch_outputs})\")\n",
    "        #print(f\"Validation epoch_targets ({epoch_targets})\")\n",
    "        \n",
    "        roc_auc_score = metrics.roc_auc_score(epoch_targets, epoch_outputs)\n",
    "        \n",
    "        epoch_outputs = np.array(epoch_outputs) >= 0.5\n",
    "        accuracy_score = metrics.accuracy_score(epoch_targets, epoch_outputs)\n",
    "        balanced_accuracy_score = metrics.balanced_accuracy_score(epoch_targets, epoch_outputs)\n",
    "        f1_score = metrics.f1_score(epoch_targets, epoch_outputs)\n",
    "        recall_score = metrics.recall_score(epoch_targets, epoch_outputs)\n",
    "        precision_score = metrics.precision_score(epoch_targets, epoch_outputs)\n",
    "    \n",
    "        history['Train Loss'].append(train_epoch_loss)\n",
    "        history['Valid Loss'].append(val_epoch_loss)\n",
    "        print(f\"Validation roc auc score ({roc_auc_score})\")\n",
    "        print(f\"Validation accuracy ({accuracy_score})\")\n",
    "        print(f\"Validation balanced accuracy score ({balanced_accuracy_score})\")\n",
    "        print(f\"Validation f1 score ({f1_score})\")\n",
    "        print(f\"Validation recall score ({recall_score})\")\n",
    "        print(f\"Validation precision score ({precision_score})\")\n",
    "        \n",
    "        \n",
    "        # deep copy the model\n",
    "        if val_epoch_loss <= best_epoch_loss:\n",
    "            print(f\"Validation Loss Improved ({best_epoch_loss} ---> {val_epoch_loss})\")\n",
    "            best_epoch_loss = val_epoch_loss\n",
    "            history[\"Best Loss\"].append(best_epoch_loss)\n",
    "            best_model_wts = copy.deepcopy(model.state_dict())\n",
    "            PATH = f\"Loss-Fold-{fold}.bin\"\n",
    "            torch.save(model.state_dict(), PATH)\n",
    "            # Save a model file from the current directory\n",
    "            print(f\"Model Saved\")\n",
    "        else:\n",
    "            epochs_no_improve += 1\n",
    "            if epochs_no_improve >= CONFIG[\"patience\"]:\n",
    "                print('Early stopping!' )\n",
    "                print()\n",
    "                break\n",
    "            \n",
    "        print()\n",
    "    \n",
    "    end = time.time()\n",
    "    time_elapsed = end - start\n",
    "    print('Training complete in {:.0f}h {:.0f}m {:.0f}s'.format(\n",
    "        time_elapsed // 3600, (time_elapsed % 3600) // 60, (time_elapsed % 3600) % 60))\n",
    "    print(\"Best Loss: {:.4f}\".format(best_epoch_loss))\n",
    "    \n",
    "    # load best model weights\n",
    "    model.load_state_dict(best_model_wts)\n",
    "    \n",
    "    return model, history"
   ]
  },
  {
   "cell_type": "code",
   "execution_count": 31,
   "id": "454d1228",
   "metadata": {},
   "outputs": [],
   "source": [
    "def prepare_loaders():\n",
    "    df_train = df[df.kfold != fold].reset_index(drop=True)\n",
    "    df_valid = df[df.kfold == fold].reset_index(drop=True)\n",
    "    \n",
    "    train_dataset = SberNewsDataset(df_train, tokenizer=CONFIG['tokenizer'], max_length=CONFIG['max_length'])\n",
    "    valid_dataset = SberNewsDataset(df_valid, tokenizer=CONFIG['tokenizer'], max_length=CONFIG['max_length'])\n",
    "\n",
    "    train_loader = DataLoader(train_dataset, batch_size=CONFIG['train_batch_size'], \n",
    "                              num_workers=2, shuffle=True, pin_memory=True)\n",
    "    valid_loader = DataLoader(valid_dataset, batch_size=CONFIG['valid_batch_size'], \n",
    "                              num_workers=2, shuffle=False, pin_memory=True)\n",
    "    \n",
    "    return train_loader, valid_loader"
   ]
  },
  {
   "cell_type": "code",
   "execution_count": 32,
   "id": "99525e8e",
   "metadata": {},
   "outputs": [
    {
     "name": "stdout",
     "output_type": "stream",
     "text": [
      "====== Fold: 0 ======\n"
     ]
    },
    {
     "name": "stderr",
     "output_type": "stream",
     "text": [
      "Some weights of the model checkpoint at DeepPavlov/rubert-base-cased were not used when initializing BertModel: ['cls.predictions.transform.LayerNorm.bias', 'cls.predictions.decoder.bias', 'cls.predictions.decoder.weight', 'cls.predictions.transform.dense.weight', 'cls.predictions.transform.dense.bias', 'cls.seq_relationship.weight', 'cls.predictions.transform.LayerNorm.weight', 'cls.seq_relationship.bias', 'cls.predictions.bias']\n",
      "- This IS expected if you are initializing BertModel from the checkpoint of a model trained on another task or with another architecture (e.g. initializing a BertForSequenceClassification model from a BertForPreTraining model).\n",
      "- This IS NOT expected if you are initializing BertModel from the checkpoint of a model that you expect to be exactly identical (initializing a BertForSequenceClassification model from a BertForSequenceClassification model).\n"
     ]
    },
    {
     "name": "stdout",
     "output_type": "stream",
     "text": [
      "[INFO] Using GPU: NVIDIA GeForce RTX 2080\n",
      "\n"
     ]
    },
    {
     "name": "stderr",
     "output_type": "stream",
     "text": [
      "100%|███████| 56/56 [00:10<00:00,  5.34it/s, Epoch=1, LR=1e-5, Train_Loss=0.511]\n",
      "100%|██████████| 8/8 [00:01<00:00,  7.63it/s, Epoch=1, LR=1e-5, Valid_Loss=0.46]\n"
     ]
    },
    {
     "name": "stdout",
     "output_type": "stream",
     "text": [
      "Validation roc auc score (0.8381388511985527)\n",
      "Validation accuracy (0.8023952095808383)\n",
      "Validation balanced accuracy score (0.5)\n",
      "Validation f1 score (0.0)\n",
      "Validation recall score (0.0)\n",
      "Validation precision score (0.0)\n",
      "Validation Loss Improved (inf ---> 0.46039692495397466)\n",
      "Model Saved\n",
      "\n"
     ]
    },
    {
     "name": "stderr",
     "output_type": "stream",
     "text": [
      "100%|███████| 56/56 [00:10<00:00,  5.39it/s, Epoch=2, LR=1e-5, Train_Loss=0.345]\n",
      "100%|██████████| 8/8 [00:01<00:00,  7.68it/s, Epoch=2, LR=1e-5, Valid_Loss=0.32]\n"
     ]
    },
    {
     "name": "stdout",
     "output_type": "stream",
     "text": [
      "Validation roc auc score (0.9238466757123472)\n",
      "Validation accuracy (0.8652694610778443)\n",
      "Validation balanced accuracy score (0.8874943464495704)\n",
      "Validation f1 score (0.7305389221556886)\n",
      "Validation recall score (0.9242424242424242)\n",
      "Validation precision score (0.6039603960396039)\n",
      "Validation Loss Improved (0.46039692495397466 ---> 0.3198052727265986)\n",
      "Model Saved\n",
      "\n"
     ]
    },
    {
     "name": "stderr",
     "output_type": "stream",
     "text": [
      "100%|███████| 56/56 [00:10<00:00,  5.31it/s, Epoch=3, LR=1e-5, Train_Loss=0.205]\n",
      "100%|█████████| 8/8 [00:01<00:00,  7.24it/s, Epoch=3, LR=1e-5, Valid_Loss=0.283]\n"
     ]
    },
    {
     "name": "stdout",
     "output_type": "stream",
     "text": [
      "Validation roc auc score (0.9193803708729081)\n",
      "Validation accuracy (0.8982035928143712)\n",
      "Validation balanced accuracy score (0.8908864767073723)\n",
      "Validation f1 score (0.7733333333333333)\n",
      "Validation recall score (0.8787878787878788)\n",
      "Validation precision score (0.6904761904761905)\n",
      "Validation Loss Improved (0.3198052727265986 ---> 0.28331830457388285)\n",
      "Model Saved\n",
      "\n"
     ]
    },
    {
     "name": "stderr",
     "output_type": "stream",
     "text": [
      "100%|███████| 56/56 [00:10<00:00,  5.27it/s, Epoch=4, LR=1e-5, Train_Loss=0.101]\n",
      "100%|███████████| 8/8 [00:01<00:00,  7.58it/s, Epoch=4, LR=1e-5, Valid_Loss=0.3]\n"
     ]
    },
    {
     "name": "stdout",
     "output_type": "stream",
     "text": [
      "Validation roc auc score (0.923168249660787)\n",
      "Validation accuracy (0.907185628742515)\n",
      "Validation balanced accuracy score (0.8907734056987788)\n",
      "Validation f1 score (0.786206896551724)\n",
      "Validation recall score (0.8636363636363636)\n",
      "Validation precision score (0.7215189873417721)\n",
      "\n",
      "Training complete in 0h 0m 51s\n",
      "Best Loss: 0.2833\n",
      "\n",
      "====== Fold: 1 ======\n"
     ]
    },
    {
     "name": "stderr",
     "output_type": "stream",
     "text": [
      "Some weights of the model checkpoint at DeepPavlov/rubert-base-cased were not used when initializing BertModel: ['cls.predictions.transform.LayerNorm.bias', 'cls.predictions.decoder.bias', 'cls.predictions.decoder.weight', 'cls.predictions.transform.dense.weight', 'cls.predictions.transform.dense.bias', 'cls.seq_relationship.weight', 'cls.predictions.transform.LayerNorm.weight', 'cls.seq_relationship.bias', 'cls.predictions.bias']\n",
      "- This IS expected if you are initializing BertModel from the checkpoint of a model trained on another task or with another architecture (e.g. initializing a BertForSequenceClassification model from a BertForPreTraining model).\n",
      "- This IS NOT expected if you are initializing BertModel from the checkpoint of a model that you expect to be exactly identical (initializing a BertForSequenceClassification model from a BertForSequenceClassification model).\n"
     ]
    },
    {
     "name": "stdout",
     "output_type": "stream",
     "text": [
      "[INFO] Using GPU: NVIDIA GeForce RTX 2080\n",
      "\n"
     ]
    },
    {
     "name": "stderr",
     "output_type": "stream",
     "text": [
      "100%|███████| 56/56 [00:10<00:00,  5.34it/s, Epoch=1, LR=1e-5, Train_Loss=0.521]\n",
      "100%|█████████| 8/8 [00:01<00:00,  7.58it/s, Epoch=1, LR=1e-5, Valid_Loss=0.482]\n"
     ]
    },
    {
     "name": "stdout",
     "output_type": "stream",
     "text": [
      "Validation roc auc score (0.6865671641791045)\n",
      "Validation accuracy (0.8023952095808383)\n",
      "Validation balanced accuracy score (0.5)\n",
      "Validation f1 score (0.0)\n",
      "Validation recall score (0.0)\n",
      "Validation precision score (0.0)\n",
      "Validation Loss Improved (inf ---> 0.481662784240203)\n",
      "Model Saved\n",
      "\n"
     ]
    },
    {
     "name": "stderr",
     "output_type": "stream",
     "text": [
      "100%|███████| 56/56 [00:10<00:00,  5.24it/s, Epoch=2, LR=1e-5, Train_Loss=0.457]\n",
      "100%|█████████| 8/8 [00:01<00:00,  7.41it/s, Epoch=2, LR=1e-5, Valid_Loss=0.427]\n"
     ]
    },
    {
     "name": "stdout",
     "output_type": "stream",
     "text": [
      "Validation roc auc score (0.8430574400723654)\n",
      "Validation accuracy (0.8023952095808383)\n",
      "Validation balanced accuracy score (0.5)\n",
      "Validation f1 score (0.0)\n",
      "Validation recall score (0.0)\n",
      "Validation precision score (0.0)\n",
      "Validation Loss Improved (0.481662784240203 ---> 0.4273407635039198)\n",
      "Model Saved\n",
      "\n"
     ]
    },
    {
     "name": "stderr",
     "output_type": "stream",
     "text": [
      "100%|███████| 56/56 [00:10<00:00,  5.12it/s, Epoch=3, LR=1e-5, Train_Loss=0.349]\n",
      "100%|█████████| 8/8 [00:01<00:00,  7.30it/s, Epoch=3, LR=1e-5, Valid_Loss=0.305]\n"
     ]
    },
    {
     "name": "stdout",
     "output_type": "stream",
     "text": [
      "Validation roc auc score (0.9114654002713705)\n",
      "Validation accuracy (0.8532934131736527)\n",
      "Validation balanced accuracy score (0.6858887381275441)\n",
      "Validation f1 score (0.5242718446601942)\n",
      "Validation recall score (0.4090909090909091)\n",
      "Validation precision score (0.7297297297297297)\n",
      "Validation Loss Improved (0.4273407635039198 ---> 0.3053062626657015)\n",
      "Model Saved\n",
      "\n"
     ]
    },
    {
     "name": "stderr",
     "output_type": "stream",
     "text": [
      "100%|████████| 56/56 [00:10<00:00,  5.28it/s, Epoch=4, LR=1e-5, Train_Loss=0.21]\n",
      "100%|█████████| 8/8 [00:01<00:00,  7.54it/s, Epoch=4, LR=1e-5, Valid_Loss=0.267]\n"
     ]
    },
    {
     "name": "stdout",
     "output_type": "stream",
     "text": [
      "Validation roc auc score (0.9408638625056536)\n",
      "Validation accuracy (0.8862275449101796)\n",
      "Validation balanced accuracy score (0.8662935323383085)\n",
      "Validation f1 score (0.7432432432432432)\n",
      "Validation recall score (0.8333333333333334)\n",
      "Validation precision score (0.6707317073170732)\n",
      "Validation Loss Improved (0.3053062626657015 ---> 0.26670397686476477)\n",
      "Model Saved\n",
      "\n",
      "Training complete in 0h 0m 53s\n",
      "Best Loss: 0.2667\n",
      "\n",
      "====== Fold: 2 ======\n"
     ]
    },
    {
     "name": "stderr",
     "output_type": "stream",
     "text": [
      "Some weights of the model checkpoint at DeepPavlov/rubert-base-cased were not used when initializing BertModel: ['cls.predictions.transform.LayerNorm.bias', 'cls.predictions.decoder.bias', 'cls.predictions.decoder.weight', 'cls.predictions.transform.dense.weight', 'cls.predictions.transform.dense.bias', 'cls.seq_relationship.weight', 'cls.predictions.transform.LayerNorm.weight', 'cls.seq_relationship.bias', 'cls.predictions.bias']\n",
      "- This IS expected if you are initializing BertModel from the checkpoint of a model trained on another task or with another architecture (e.g. initializing a BertForSequenceClassification model from a BertForPreTraining model).\n",
      "- This IS NOT expected if you are initializing BertModel from the checkpoint of a model that you expect to be exactly identical (initializing a BertForSequenceClassification model from a BertForSequenceClassification model).\n"
     ]
    },
    {
     "name": "stdout",
     "output_type": "stream",
     "text": [
      "[INFO] Using GPU: NVIDIA GeForce RTX 2080\n",
      "\n"
     ]
    },
    {
     "name": "stderr",
     "output_type": "stream",
     "text": [
      "100%|███████| 56/56 [00:10<00:00,  5.35it/s, Epoch=1, LR=1e-5, Train_Loss=0.544]\n",
      "100%|█████████| 8/8 [00:01<00:00,  7.61it/s, Epoch=1, LR=1e-5, Valid_Loss=0.471]\n"
     ]
    },
    {
     "name": "stdout",
     "output_type": "stream",
     "text": [
      "Validation roc auc score (0.7563319764812303)\n",
      "Validation accuracy (0.8023952095808383)\n",
      "Validation balanced accuracy score (0.5)\n",
      "Validation f1 score (0.0)\n",
      "Validation recall score (0.0)\n",
      "Validation precision score (0.0)\n",
      "Validation Loss Improved (inf ---> 0.47099087489936164)\n",
      "Model Saved\n",
      "\n"
     ]
    },
    {
     "name": "stderr",
     "output_type": "stream",
     "text": [
      "100%|███████| 56/56 [00:10<00:00,  5.33it/s, Epoch=2, LR=1e-5, Train_Loss=0.436]\n",
      "100%|█████████| 8/8 [00:01<00:00,  7.52it/s, Epoch=2, LR=1e-5, Valid_Loss=0.389]\n"
     ]
    },
    {
     "name": "stdout",
     "output_type": "stream",
     "text": [
      "Validation roc auc score (0.8983491632745364)\n",
      "Validation accuracy (0.8802395209580839)\n",
      "Validation balanced accuracy score (0.7426503844414292)\n",
      "Validation f1 score (0.6296296296296297)\n",
      "Validation recall score (0.5151515151515151)\n",
      "Validation precision score (0.8095238095238095)\n",
      "Validation Loss Improved (0.47099087489936164 ---> 0.388818207793607)\n",
      "Model Saved\n",
      "\n"
     ]
    },
    {
     "name": "stderr",
     "output_type": "stream",
     "text": [
      "100%|███████| 56/56 [00:10<00:00,  5.18it/s, Epoch=3, LR=1e-5, Train_Loss=0.308]\n",
      "100%|█████████| 8/8 [00:01<00:00,  7.45it/s, Epoch=3, LR=1e-5, Valid_Loss=0.261]\n"
     ]
    },
    {
     "name": "stdout",
     "output_type": "stream",
     "text": [
      "Validation roc auc score (0.945273631840796)\n",
      "Validation accuracy (0.8892215568862275)\n",
      "Validation balanced accuracy score (0.8681592039800996)\n",
      "Validation f1 score (0.7482993197278912)\n",
      "Validation recall score (0.8333333333333334)\n",
      "Validation precision score (0.6790123456790124)\n",
      "Validation Loss Improved (0.388818207793607 ---> 0.261020995944203)\n",
      "Model Saved\n",
      "\n"
     ]
    },
    {
     "name": "stderr",
     "output_type": "stream",
     "text": [
      "100%|███████| 56/56 [00:10<00:00,  5.22it/s, Epoch=4, LR=1e-5, Train_Loss=0.206]\n",
      "100%|█████████| 8/8 [00:01<00:00,  7.48it/s, Epoch=4, LR=1e-5, Valid_Loss=0.244]\n"
     ]
    },
    {
     "name": "stdout",
     "output_type": "stream",
     "text": [
      "Validation roc auc score (0.9561849841700588)\n",
      "Validation accuracy (0.9011976047904192)\n",
      "Validation balanced accuracy score (0.8527815468113975)\n",
      "Validation f1 score (0.7555555555555555)\n",
      "Validation recall score (0.7727272727272727)\n",
      "Validation precision score (0.7391304347826086)\n",
      "Validation Loss Improved (0.261020995944203 ---> 0.24361817632428187)\n",
      "Model Saved\n",
      "\n",
      "Training complete in 0h 0m 53s\n",
      "Best Loss: 0.2436\n",
      "\n",
      "====== Fold: 3 ======\n"
     ]
    },
    {
     "name": "stderr",
     "output_type": "stream",
     "text": [
      "Some weights of the model checkpoint at DeepPavlov/rubert-base-cased were not used when initializing BertModel: ['cls.predictions.transform.LayerNorm.bias', 'cls.predictions.decoder.bias', 'cls.predictions.decoder.weight', 'cls.predictions.transform.dense.weight', 'cls.predictions.transform.dense.bias', 'cls.seq_relationship.weight', 'cls.predictions.transform.LayerNorm.weight', 'cls.seq_relationship.bias', 'cls.predictions.bias']\n",
      "- This IS expected if you are initializing BertModel from the checkpoint of a model trained on another task or with another architecture (e.g. initializing a BertForSequenceClassification model from a BertForPreTraining model).\n",
      "- This IS NOT expected if you are initializing BertModel from the checkpoint of a model that you expect to be exactly identical (initializing a BertForSequenceClassification model from a BertForSequenceClassification model).\n"
     ]
    },
    {
     "name": "stdout",
     "output_type": "stream",
     "text": [
      "[INFO] Using GPU: NVIDIA GeForce RTX 2080\n",
      "\n"
     ]
    },
    {
     "name": "stderr",
     "output_type": "stream",
     "text": [
      "100%|███████| 56/56 [00:10<00:00,  5.26it/s, Epoch=1, LR=1e-5, Train_Loss=0.513]\n",
      "100%|█████████| 8/8 [00:01<00:00,  7.18it/s, Epoch=1, LR=1e-5, Valid_Loss=0.443]\n"
     ]
    },
    {
     "name": "stdout",
     "output_type": "stream",
     "text": [
      "Validation roc auc score (0.8726255088195387)\n",
      "Validation accuracy (0.8023952095808383)\n",
      "Validation balanced accuracy score (0.5)\n",
      "Validation f1 score (0.0)\n",
      "Validation recall score (0.0)\n",
      "Validation precision score (0.0)\n",
      "Validation Loss Improved (inf ---> 0.44295251458704826)\n",
      "Model Saved\n",
      "\n"
     ]
    },
    {
     "name": "stderr",
     "output_type": "stream",
     "text": [
      "100%|███████| 56/56 [00:10<00:00,  5.17it/s, Epoch=2, LR=1e-5, Train_Loss=0.331]\n",
      "100%|█████████| 8/8 [00:01<00:00,  7.46it/s, Epoch=2, LR=1e-5, Valid_Loss=0.182]\n"
     ]
    },
    {
     "name": "stdout",
     "output_type": "stream",
     "text": [
      "Validation roc auc score (0.9708842152872003)\n",
      "Validation accuracy (0.9461077844311377)\n",
      "Validation balanced accuracy score (0.8921867933061962)\n",
      "Validation f1 score (0.8548387096774194)\n",
      "Validation recall score (0.803030303030303)\n",
      "Validation precision score (0.9137931034482759)\n",
      "Validation Loss Improved (0.44295251458704826 ---> 0.18180844516766642)\n",
      "Model Saved\n",
      "\n"
     ]
    },
    {
     "name": "stderr",
     "output_type": "stream",
     "text": [
      "100%|███████| 56/56 [00:10<00:00,  5.10it/s, Epoch=3, LR=1e-5, Train_Loss=0.202]\n",
      "100%|█████████| 8/8 [00:01<00:00,  7.35it/s, Epoch=3, LR=1e-5, Valid_Loss=0.171]\n"
     ]
    },
    {
     "name": "stdout",
     "output_type": "stream",
     "text": [
      "Validation roc auc score (0.9692446856625961)\n",
      "Validation accuracy (0.9431137724550899)\n",
      "Validation balanced accuracy score (0.8846110357304386)\n",
      "Validation f1 score (0.8455284552845528)\n",
      "Validation recall score (0.7878787878787878)\n",
      "Validation precision score (0.9122807017543859)\n",
      "Validation Loss Improved (0.18180844516766642 ---> 0.17148036426100546)\n",
      "Model Saved\n",
      "\n"
     ]
    },
    {
     "name": "stderr",
     "output_type": "stream",
     "text": [
      "100%|███████| 56/56 [00:10<00:00,  5.22it/s, Epoch=4, LR=1e-5, Train_Loss=0.119]\n",
      "100%|█████████| 8/8 [00:01<00:00,  7.49it/s, Epoch=4, LR=1e-5, Valid_Loss=0.205]\n"
     ]
    },
    {
     "name": "stdout",
     "output_type": "stream",
     "text": [
      "Validation roc auc score (0.9717322478516509)\n",
      "Validation accuracy (0.9221556886227545)\n",
      "Validation balanced accuracy score (0.8315807327001357)\n",
      "Validation f1 score (0.7758620689655172)\n",
      "Validation recall score (0.6818181818181818)\n",
      "Validation precision score (0.9)\n",
      "\n",
      "Training complete in 0h 0m 52s\n",
      "Best Loss: 0.1715\n",
      "\n",
      "====== Fold: 4 ======\n"
     ]
    },
    {
     "name": "stderr",
     "output_type": "stream",
     "text": [
      "Some weights of the model checkpoint at DeepPavlov/rubert-base-cased were not used when initializing BertModel: ['cls.predictions.transform.LayerNorm.bias', 'cls.predictions.decoder.bias', 'cls.predictions.decoder.weight', 'cls.predictions.transform.dense.weight', 'cls.predictions.transform.dense.bias', 'cls.seq_relationship.weight', 'cls.predictions.transform.LayerNorm.weight', 'cls.seq_relationship.bias', 'cls.predictions.bias']\n",
      "- This IS expected if you are initializing BertModel from the checkpoint of a model trained on another task or with another architecture (e.g. initializing a BertForSequenceClassification model from a BertForPreTraining model).\n",
      "- This IS NOT expected if you are initializing BertModel from the checkpoint of a model that you expect to be exactly identical (initializing a BertForSequenceClassification model from a BertForSequenceClassification model).\n"
     ]
    },
    {
     "name": "stdout",
     "output_type": "stream",
     "text": [
      "[INFO] Using GPU: NVIDIA GeForce RTX 2080\n",
      "\n"
     ]
    },
    {
     "name": "stderr",
     "output_type": "stream",
     "text": [
      "100%|███████| 56/56 [00:10<00:00,  5.27it/s, Epoch=1, LR=1e-5, Train_Loss=0.521]\n",
      "100%|█████████| 8/8 [00:01<00:00,  7.58it/s, Epoch=1, LR=1e-5, Valid_Loss=0.466]\n"
     ]
    },
    {
     "name": "stdout",
     "output_type": "stream",
     "text": [
      "Validation roc auc score (0.7184270952927669)\n",
      "Validation accuracy (0.8048048048048048)\n",
      "Validation balanced accuracy score (0.5)\n",
      "Validation f1 score (0.0)\n",
      "Validation recall score (0.0)\n",
      "Validation precision score (0.0)\n",
      "Validation Loss Improved (inf ---> 0.46603504011222907)\n",
      "Model Saved\n",
      "\n"
     ]
    },
    {
     "name": "stderr",
     "output_type": "stream",
     "text": [
      "100%|███████| 56/56 [00:10<00:00,  5.28it/s, Epoch=2, LR=1e-5, Train_Loss=0.423]\n",
      "100%|█████████| 8/8 [00:01<00:00,  7.47it/s, Epoch=2, LR=1e-5, Valid_Loss=0.381]\n"
     ]
    },
    {
     "name": "stdout",
     "output_type": "stream",
     "text": [
      "Validation roc auc score (0.8574052812858783)\n",
      "Validation accuracy (0.8048048048048048)\n",
      "Validation balanced accuracy score (0.5)\n",
      "Validation f1 score (0.0)\n",
      "Validation recall score (0.0)\n",
      "Validation precision score (0.0)\n",
      "Validation Loss Improved (0.46603504011222907 ---> 0.38088884260561373)\n",
      "Model Saved\n",
      "\n"
     ]
    },
    {
     "name": "stderr",
     "output_type": "stream",
     "text": [
      "100%|███████| 56/56 [00:10<00:00,  5.37it/s, Epoch=3, LR=1e-5, Train_Loss=0.292]\n",
      "100%|█████████| 8/8 [00:01<00:00,  7.57it/s, Epoch=3, LR=1e-5, Valid_Loss=0.298]\n"
     ]
    },
    {
     "name": "stdout",
     "output_type": "stream",
     "text": [
      "Validation roc auc score (0.9058553386911598)\n",
      "Validation accuracy (0.8648648648648649)\n",
      "Validation balanced accuracy score (0.8286452353616534)\n",
      "Validation f1 score (0.6896551724137931)\n",
      "Validation recall score (0.7692307692307693)\n",
      "Validation precision score (0.625)\n",
      "Validation Loss Improved (0.38088884260561373 ---> 0.2976928505901102)\n",
      "Model Saved\n",
      "\n"
     ]
    },
    {
     "name": "stderr",
     "output_type": "stream",
     "text": [
      "100%|███████| 56/56 [00:10<00:00,  5.37it/s, Epoch=4, LR=1e-5, Train_Loss=0.221]\n",
      "100%|█████████| 8/8 [00:01<00:00,  7.61it/s, Epoch=4, LR=1e-5, Valid_Loss=0.305]"
     ]
    },
    {
     "name": "stdout",
     "output_type": "stream",
     "text": [
      "Validation roc auc score (0.9225602755453501)\n",
      "Validation accuracy (0.8648648648648649)\n",
      "Validation balanced accuracy score (0.8519517795637199)\n",
      "Validation f1 score (0.7058823529411765)\n",
      "Validation recall score (0.8307692307692308)\n",
      "Validation precision score (0.6136363636363636)\n",
      "\n",
      "Training complete in 0h 0m 51s\n",
      "Best Loss: 0.2977\n",
      "\n"
     ]
    },
    {
     "name": "stderr",
     "output_type": "stream",
     "text": [
      "\n"
     ]
    }
   ],
   "source": [
    "for fold in range(0, CONFIG['n_fold']):\n",
    "    print(f\"====== Fold: {fold} ======\")\n",
    "    \n",
    "    # Create Dataloaders\n",
    "    train_loader, valid_loader = prepare_loaders()\n",
    "    \n",
    "    model = SberNewsModel(CONFIG['model_name'])\n",
    "    model.to(CONFIG['device'])\n",
    "    \n",
    "    # Define Optimizer and Scheduler\n",
    "    optimizer = AdamW(model.parameters(), lr=CONFIG['learning_rate'], eps=CONFIG['epsilon'], weight_decay=CONFIG['weight_decay'])\n",
    "    \n",
    "    model, history = run_training(model, optimizer,\n",
    "                                  device=CONFIG['device'],\n",
    "                                  num_epochs=CONFIG['epochs'],\n",
    "                                  fold=fold)\n",
    "    \n",
    "    \n",
    "    del model, history, train_loader, valid_loader\n",
    "    _ = gc.collect()\n",
    "    print()\n",
    "    "
   ]
  },
  {
   "cell_type": "code",
   "execution_count": null,
   "id": "f5e26a83",
   "metadata": {},
   "outputs": [],
   "source": []
  }
 ],
 "metadata": {
  "kernelspec": {
   "display_name": "Python 3 (ipykernel)",
   "language": "python",
   "name": "python3"
  },
  "language_info": {
   "codemirror_mode": {
    "name": "ipython",
    "version": 3
   },
   "file_extension": ".py",
   "mimetype": "text/x-python",
   "name": "python",
   "nbconvert_exporter": "python",
   "pygments_lexer": "ipython3",
   "version": "3.8.10"
  }
 },
 "nbformat": 4,
 "nbformat_minor": 5
}
