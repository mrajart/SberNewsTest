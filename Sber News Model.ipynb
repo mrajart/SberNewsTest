{
 "cells": [
  {
   "cell_type": "code",
   "execution_count": 1,
   "id": "3f9428dd",
   "metadata": {},
   "outputs": [],
   "source": [
    "import os\n",
    "import gc\n",
    "import copy\n",
    "import time\n",
    "import random\n",
    "import string\n",
    "\n",
    "# For data manipulation\n",
    "import numpy as np\n",
    "import pandas as pd\n",
    "\n",
    "# Pytorch Imports\n",
    "import torch\n",
    "import torch.nn as nn\n",
    "import torch.optim as optim\n",
    "from torch.optim import lr_scheduler\n",
    "from torch.utils.data import Dataset, DataLoader\n",
    "from torchvision.ops import sigmoid_focal_loss\n",
    "\n",
    "# Utils\n",
    "from tqdm import tqdm\n",
    "from collections import defaultdict\n",
    "import matplotlib.pyplot as plt\n",
    "\n",
    "# Sklearn Imports\n",
    "from sklearn import metrics\n",
    "from sklearn.model_selection import train_test_split, StratifiedKFold\n",
    "from sklearn.utils.class_weight import compute_class_weight\n",
    "\n",
    "#Text Cleaning\n",
    "from bs4 import BeautifulSoup\n",
    "import re \n",
    "\n",
    "# For Transformer Models\n",
    "from transformers import AutoTokenizer, AutoModel, AdamW\n",
    "\n",
    "# Suppress warnings\n",
    "import warnings\n",
    "warnings.filterwarnings(\"ignore\")\n",
    "\n",
    "# For descriptive error messages\n",
    "os.environ['CUDA_LAUNCH_BLOCKING'] = \"1\"\n"
   ]
  },
  {
   "cell_type": "code",
   "execution_count": 2,
   "id": "47b6e203",
   "metadata": {},
   "outputs": [
    {
     "data": {
      "text/plain": [
       "True"
      ]
     },
     "execution_count": 2,
     "metadata": {},
     "output_type": "execute_result"
    }
   ],
   "source": [
    "torch.cuda.is_available()"
   ]
  },
  {
   "cell_type": "code",
   "execution_count": 3,
   "id": "ab218a93",
   "metadata": {},
   "outputs": [
    {
     "data": {
      "text/html": [
       "<div>\n",
       "<style scoped>\n",
       "    .dataframe tbody tr th:only-of-type {\n",
       "        vertical-align: middle;\n",
       "    }\n",
       "\n",
       "    .dataframe tbody tr th {\n",
       "        vertical-align: top;\n",
       "    }\n",
       "\n",
       "    .dataframe thead th {\n",
       "        text-align: right;\n",
       "    }\n",
       "</style>\n",
       "<table border=\"1\" class=\"dataframe\">\n",
       "  <thead>\n",
       "    <tr style=\"text-align: right;\">\n",
       "      <th></th>\n",
       "      <th>sentence</th>\n",
       "      <th>label</th>\n",
       "    </tr>\n",
       "  </thead>\n",
       "  <tbody>\n",
       "    <tr>\n",
       "      <th>0</th>\n",
       "      <td>Срыв сроков строительства зоопарка оценили в 1...</td>\n",
       "      <td>1</td>\n",
       "    </tr>\n",
       "    <tr>\n",
       "      <th>1</th>\n",
       "      <td>По данным Генпрокуратуры РФ, в 2014-2018 годах...</td>\n",
       "      <td>1</td>\n",
       "    </tr>\n",
       "    <tr>\n",
       "      <th>2</th>\n",
       "      <td>Обвиняли в этом столичный акимат, который сорв...</td>\n",
       "      <td>1</td>\n",
       "    </tr>\n",
       "    <tr>\n",
       "      <th>3</th>\n",
       "      <td>Запуск циклотронного центра ядерной медицины н...</td>\n",
       "      <td>1</td>\n",
       "    </tr>\n",
       "    <tr>\n",
       "      <th>4</th>\n",
       "      <td>Сроки сдачи объекта несколько раз переносились.</td>\n",
       "      <td>1</td>\n",
       "    </tr>\n",
       "  </tbody>\n",
       "</table>\n",
       "</div>"
      ],
      "text/plain": [
       "                                            sentence  label\n",
       "0  Срыв сроков строительства зоопарка оценили в 1...      1\n",
       "1  По данным Генпрокуратуры РФ, в 2014-2018 годах...      1\n",
       "2  Обвиняли в этом столичный акимат, который сорв...      1\n",
       "3  Запуск циклотронного центра ядерной медицины н...      1\n",
       "4    Сроки сдачи объекта несколько раз переносились.      1"
      ]
     },
     "execution_count": 3,
     "metadata": {},
     "output_type": "execute_result"
    }
   ],
   "source": [
    "df = pd.read_csv(\"input/train_data.csv\", index_col=0)\n",
    "df.head()"
   ]
  },
  {
   "cell_type": "code",
   "execution_count": 4,
   "id": "e8e3b2eb",
   "metadata": {},
   "outputs": [
    {
     "name": "stdout",
     "output_type": "stream",
     "text": [
      "0    1340\n",
      "1     329\n",
      "Name: label, dtype: int64\n"
     ]
    },
    {
     "data": {
      "text/plain": [
       "Text(0.5, 1.0, 'Distribution of Labels')"
      ]
     },
     "execution_count": 4,
     "metadata": {},
     "output_type": "execute_result"
    },
    {
     "data": {
      "image/png": "[encoded data removed]",
      "text/plain": [
       "<Figure size 432x288 with 1 Axes>"
      ]
     },
     "metadata": {
      "needs_background": "light"
     },
     "output_type": "display_data"
    }
   ],
   "source": [
    "print(df['label'].value_counts())\n",
    "df['label'].value_counts().plot.bar()\n",
    "plt.title('Distribution of Labels')"
   ]
  },
  {
   "cell_type": "code",
   "execution_count": 5,
   "id": "1709fa3b",
   "metadata": {},
   "outputs": [],
   "source": [
    "CONFIG = {\"seed\": 2021,\n",
    "          \"epochs\": 10,\n",
    "          \"model_name\": \"DeepPavlov/rubert-base-cased\",\n",
    "          \"train_batch_size\": 8,\n",
    "          \"valid_batch_size\": 16,\n",
    "          \"max_length\": 256,\n",
    "          \"learning_rate\": 1e-5,\n",
    "          \"epsilon\" : 1e-6,\n",
    "          \"weight_decay\": 1e-5,\n",
    "          \"n_fold\": 5,\n",
    "          \"num_classes\": 1,\n",
    "          \"patience\": 2,\n",
    "          \"device\": torch.device(\"cuda:0\" if torch.cuda.is_available() else \"cpu\"),\n",
    "          }\n",
    "\n",
    "CONFIG[\"tokenizer\"] = AutoTokenizer.from_pretrained(CONFIG['model_name'])"
   ]
  },
  {
   "cell_type": "code",
   "execution_count": 6,
   "id": "28967ea4",
   "metadata": {},
   "outputs": [],
   "source": [
    "def set_seed(seed=42):\n",
    "    '''Sets the seed of the entire notebook so results are the same every time we run.\n",
    "    This is for REPRODUCIBILITY.'''\n",
    "    np.random.seed(seed)\n",
    "    torch.manual_seed(seed)\n",
    "    torch.cuda.manual_seed(seed)\n",
    "    # When running on the CuDNN backend, two further options must be set\n",
    "    torch.backends.cudnn.deterministic = True\n",
    "    torch.backends.cudnn.benchmark = False\n",
    "    # Set a fixed value for the hash seed\n",
    "    os.environ['PYTHONHASHSEED'] = str(seed)\n",
    "    \n",
    "set_seed(CONFIG['seed'])"
   ]
  },
  {
   "cell_type": "code",
   "execution_count": 7,
   "id": "e80b5700",
   "metadata": {},
   "outputs": [
    {
     "data": {
      "text/plain": [
       "\"df_train, df_valid = train_test_split(df, test_size=0.2, random_state=CONFIG['seed'])\""
      ]
     },
     "execution_count": 7,
     "metadata": {},
     "output_type": "execute_result"
    }
   ],
   "source": [
    "'''df_train, df_valid = train_test_split(df, test_size=0.2, random_state=CONFIG['seed'])'''"
   ]
  },
  {
   "cell_type": "code",
   "execution_count": 8,
   "id": "b40b15d1",
   "metadata": {},
   "outputs": [
    {
     "data": {
      "text/plain": [
       "'df_train = df_train.reset_index(drop=True)\\ndf_valid = df_valid.reset_index(drop=True)'"
      ]
     },
     "execution_count": 8,
     "metadata": {},
     "output_type": "execute_result"
    }
   ],
   "source": [
    "'''df_train = df_train.reset_index(drop=True)\n",
    "df_valid = df_valid.reset_index(drop=True)'''"
   ]
  },
  {
   "cell_type": "code",
   "execution_count": 9,
   "id": "a1933ddc",
   "metadata": {},
   "outputs": [
    {
     "data": {
      "text/plain": [
       "'df_train.head()'"
      ]
     },
     "execution_count": 9,
     "metadata": {},
     "output_type": "execute_result"
    }
   ],
   "source": [
    "'''df_train.head()'''"
   ]
  },
  {
   "cell_type": "code",
   "execution_count": 10,
   "id": "6ead45fb",
   "metadata": {},
   "outputs": [
    {
     "data": {
      "text/plain": [
       "'df_valid.head()'"
      ]
     },
     "execution_count": 10,
     "metadata": {},
     "output_type": "execute_result"
    }
   ],
   "source": [
    "'''df_valid.head()'''"
   ]
  },
  {
   "cell_type": "code",
   "execution_count": 11,
   "id": "e9f7d35a",
   "metadata": {},
   "outputs": [],
   "source": [
    "def text_cleaning(text):\n",
    "    '''\n",
    "    Cleans text into a basic form for NLP. Operations include the following:-\n",
    "    1. Remove special charecters like &, #, etc\n",
    "    2. Removes extra spaces\n",
    "    3. Removes embedded URL links\n",
    "    4. Removes HTML tags\n",
    "    5. Removes emojis\n",
    "    \n",
    "    text - Text piece to be cleaned.\n",
    "    '''\n",
    "    template = re.compile(r'https?://\\S+|www\\.\\S+') #Removes website links\n",
    "    text = template.sub(r'', text)\n",
    "    \n",
    "    soup = BeautifulSoup(text, 'lxml') #Removes HTML tags\n",
    "    only_text = soup.get_text()\n",
    "    text = only_text\n",
    "    \n",
    "    emoji_pattern = re.compile(\"[\"\n",
    "                               u\"\\U0001F600-\\U0001F64F\"  # emoticons\n",
    "                               u\"\\U0001F300-\\U0001F5FF\"  # symbols & pictographs\n",
    "                               u\"\\U0001F680-\\U0001F6FF\"  # transport & map symbols\n",
    "                               u\"\\U0001F1E0-\\U0001F1FF\"  # flags (iOS)\n",
    "                               u\"\\U00002702-\\U000027B0\"\n",
    "                               u\"\\U000024C2-\\U0001F251\"\n",
    "                               \"]+\", flags=re.UNICODE)\n",
    "    text = emoji_pattern.sub(r'', text)\n",
    "    \n",
    "    text = re.sub(' +', ' ', text) #Remove Extra Spaces\n",
    "    text = text.strip() # remove spaces at the beginning and at the end of string\n",
    "\n",
    "    return text"
   ]
  },
  {
   "cell_type": "code",
   "execution_count": 12,
   "id": "61cbfb69",
   "metadata": {},
   "outputs": [],
   "source": [
    "df.sentence = df.sentence.apply(text_cleaning)"
   ]
  },
  {
   "cell_type": "code",
   "execution_count": 13,
   "id": "6e4c74e8",
   "metadata": {},
   "outputs": [
    {
     "data": {
      "text/plain": [
       "0       Срыв сроков строительства зоопарка оценили в 1...\n",
       "1       По данным Генпрокуратуры РФ, в 2014-2018 годах...\n",
       "2       Обвиняли в этом столичный акимат, который сорв...\n",
       "3       Запуск циклотронного центра ядерной медицины н...\n",
       "4         Сроки сдачи объекта несколько раз переносились.\n",
       "                              ...                        \n",
       "1664    Подрядчик ООО «АльянсДорСтрой» должен сдать об...\n",
       "1665    Он заявил, что запуск ракеты-носителя сверхтяж...\n",
       "1666    Застройщик ЖК \"Медовая Долина\" планирует ввест...\n",
       "1667    Официальные сроки, указанные в проектной декла...\n",
       "1668    Он потребовал «выдержать намеченные сроки» стр...\n",
       "Name: sentence, Length: 1669, dtype: object"
      ]
     },
     "execution_count": 13,
     "metadata": {},
     "output_type": "execute_result"
    }
   ],
   "source": [
    "df.sentence"
   ]
  },
  {
   "cell_type": "code",
   "execution_count": 14,
   "id": "49d9f8de",
   "metadata": {},
   "outputs": [
    {
     "data": {
      "text/html": [
       "<div>\n",
       "<style scoped>\n",
       "    .dataframe tbody tr th:only-of-type {\n",
       "        vertical-align: middle;\n",
       "    }\n",
       "\n",
       "    .dataframe tbody tr th {\n",
       "        vertical-align: top;\n",
       "    }\n",
       "\n",
       "    .dataframe thead th {\n",
       "        text-align: right;\n",
       "    }\n",
       "</style>\n",
       "<table border=\"1\" class=\"dataframe\">\n",
       "  <thead>\n",
       "    <tr style=\"text-align: right;\">\n",
       "      <th></th>\n",
       "      <th>sentence</th>\n",
       "      <th>label</th>\n",
       "      <th>kfold</th>\n",
       "    </tr>\n",
       "  </thead>\n",
       "  <tbody>\n",
       "    <tr>\n",
       "      <th>0</th>\n",
       "      <td>Срыв сроков строительства зоопарка оценили в 1...</td>\n",
       "      <td>1</td>\n",
       "      <td>4</td>\n",
       "    </tr>\n",
       "    <tr>\n",
       "      <th>1</th>\n",
       "      <td>По данным Генпрокуратуры РФ, в 2014-2018 годах...</td>\n",
       "      <td>1</td>\n",
       "      <td>3</td>\n",
       "    </tr>\n",
       "    <tr>\n",
       "      <th>2</th>\n",
       "      <td>Обвиняли в этом столичный акимат, который сорв...</td>\n",
       "      <td>1</td>\n",
       "      <td>3</td>\n",
       "    </tr>\n",
       "    <tr>\n",
       "      <th>3</th>\n",
       "      <td>Запуск циклотронного центра ядерной медицины н...</td>\n",
       "      <td>1</td>\n",
       "      <td>4</td>\n",
       "    </tr>\n",
       "    <tr>\n",
       "      <th>4</th>\n",
       "      <td>Сроки сдачи объекта несколько раз переносились.</td>\n",
       "      <td>1</td>\n",
       "      <td>1</td>\n",
       "    </tr>\n",
       "  </tbody>\n",
       "</table>\n",
       "</div>"
      ],
      "text/plain": [
       "                                            sentence  label  kfold\n",
       "0  Срыв сроков строительства зоопарка оценили в 1...      1      4\n",
       "1  По данным Генпрокуратуры РФ, в 2014-2018 годах...      1      3\n",
       "2  Обвиняли в этом столичный акимат, который сорв...      1      3\n",
       "3  Запуск циклотронного центра ядерной медицины н...      1      4\n",
       "4    Сроки сдачи объекта несколько раз переносились.      1      1"
      ]
     },
     "execution_count": 14,
     "metadata": {},
     "output_type": "execute_result"
    }
   ],
   "source": [
    "skf = StratifiedKFold(n_splits=CONFIG['n_fold'], shuffle=True, random_state=CONFIG['seed'])\n",
    "\n",
    "for fold, ( _, val_) in enumerate(skf.split(X=df.sentence, y=df.label)):\n",
    "    df.loc[val_ , \"kfold\"] = int(fold)\n",
    "    \n",
    "df[\"kfold\"] = df[\"kfold\"].astype(int)\n",
    "df.head()"
   ]
  },
  {
   "cell_type": "code",
   "execution_count": 15,
   "id": "52627f56",
   "metadata": {},
   "outputs": [
    {
     "data": {
      "text/html": [
       "<div>\n",
       "<style scoped>\n",
       "    .dataframe tbody tr th:only-of-type {\n",
       "        vertical-align: middle;\n",
       "    }\n",
       "\n",
       "    .dataframe tbody tr th {\n",
       "        vertical-align: top;\n",
       "    }\n",
       "\n",
       "    .dataframe thead th {\n",
       "        text-align: right;\n",
       "    }\n",
       "</style>\n",
       "<table border=\"1\" class=\"dataframe\">\n",
       "  <thead>\n",
       "    <tr style=\"text-align: right;\">\n",
       "      <th></th>\n",
       "      <th>sentence</th>\n",
       "      <th>label</th>\n",
       "      <th>kfold</th>\n",
       "    </tr>\n",
       "  </thead>\n",
       "  <tbody>\n",
       "    <tr>\n",
       "      <th>0</th>\n",
       "      <td>Срыв сроков строительства зоопарка оценили в 1...</td>\n",
       "      <td>1</td>\n",
       "      <td>4</td>\n",
       "    </tr>\n",
       "    <tr>\n",
       "      <th>1</th>\n",
       "      <td>По данным Генпрокуратуры РФ, в 2014-2018 годах...</td>\n",
       "      <td>1</td>\n",
       "      <td>3</td>\n",
       "    </tr>\n",
       "    <tr>\n",
       "      <th>2</th>\n",
       "      <td>Обвиняли в этом столичный акимат, который сорв...</td>\n",
       "      <td>1</td>\n",
       "      <td>3</td>\n",
       "    </tr>\n",
       "    <tr>\n",
       "      <th>3</th>\n",
       "      <td>Запуск циклотронного центра ядерной медицины н...</td>\n",
       "      <td>1</td>\n",
       "      <td>4</td>\n",
       "    </tr>\n",
       "    <tr>\n",
       "      <th>4</th>\n",
       "      <td>Сроки сдачи объекта несколько раз переносились.</td>\n",
       "      <td>1</td>\n",
       "      <td>1</td>\n",
       "    </tr>\n",
       "    <tr>\n",
       "      <th>...</th>\n",
       "      <td>...</td>\n",
       "      <td>...</td>\n",
       "      <td>...</td>\n",
       "    </tr>\n",
       "    <tr>\n",
       "      <th>1664</th>\n",
       "      <td>Подрядчик ООО «АльянсДорСтрой» должен сдать об...</td>\n",
       "      <td>0</td>\n",
       "      <td>1</td>\n",
       "    </tr>\n",
       "    <tr>\n",
       "      <th>1665</th>\n",
       "      <td>Он заявил, что запуск ракеты-носителя сверхтяж...</td>\n",
       "      <td>0</td>\n",
       "      <td>3</td>\n",
       "    </tr>\n",
       "    <tr>\n",
       "      <th>1666</th>\n",
       "      <td>Застройщик ЖК \"Медовая Долина\" планирует ввест...</td>\n",
       "      <td>0</td>\n",
       "      <td>3</td>\n",
       "    </tr>\n",
       "    <tr>\n",
       "      <th>1667</th>\n",
       "      <td>Официальные сроки, указанные в проектной декла...</td>\n",
       "      <td>0</td>\n",
       "      <td>2</td>\n",
       "    </tr>\n",
       "    <tr>\n",
       "      <th>1668</th>\n",
       "      <td>Он потребовал «выдержать намеченные сроки» стр...</td>\n",
       "      <td>0</td>\n",
       "      <td>0</td>\n",
       "    </tr>\n",
       "  </tbody>\n",
       "</table>\n",
       "<p>1669 rows × 3 columns</p>\n",
       "</div>"
      ],
      "text/plain": [
       "                                               sentence  label  kfold\n",
       "0     Срыв сроков строительства зоопарка оценили в 1...      1      4\n",
       "1     По данным Генпрокуратуры РФ, в 2014-2018 годах...      1      3\n",
       "2     Обвиняли в этом столичный акимат, который сорв...      1      3\n",
       "3     Запуск циклотронного центра ядерной медицины н...      1      4\n",
       "4       Сроки сдачи объекта несколько раз переносились.      1      1\n",
       "...                                                 ...    ...    ...\n",
       "1664  Подрядчик ООО «АльянсДорСтрой» должен сдать об...      0      1\n",
       "1665  Он заявил, что запуск ракеты-носителя сверхтяж...      0      3\n",
       "1666  Застройщик ЖК \"Медовая Долина\" планирует ввест...      0      3\n",
       "1667  Официальные сроки, указанные в проектной декла...      0      2\n",
       "1668  Он потребовал «выдержать намеченные сроки» стр...      0      0\n",
       "\n",
       "[1669 rows x 3 columns]"
      ]
     },
     "execution_count": 15,
     "metadata": {},
     "output_type": "execute_result"
    }
   ],
   "source": [
    "df"
   ]
  },
  {
   "cell_type": "code",
   "execution_count": 16,
   "id": "7ba9ee6f",
   "metadata": {},
   "outputs": [],
   "source": [
    "class SberNewsDataset(Dataset):\n",
    "    def __init__(self, df, tokenizer, max_length):\n",
    "        self.df = df\n",
    "        self.max_len = max_length\n",
    "        self.tokenizer = tokenizer\n",
    "        self.text = df.sentence\n",
    "        self.targets = df['label']\n",
    "        \n",
    "    def __len__(self):\n",
    "        return len(self.df)\n",
    "    \n",
    "    def __getitem__(self, index):\n",
    "        text = self.text[index]\n",
    "        inputs = self.tokenizer.encode_plus(\n",
    "                                text,\n",
    "                                truncation=True,\n",
    "                                add_special_tokens=True,\n",
    "                                max_length=self.max_len,\n",
    "                                padding='max_length',\n",
    "                                return_token_type_ids=True\n",
    "                            )\n",
    "        target = np.array(self.targets[index])\n",
    "        \n",
    "        ids = inputs['input_ids']\n",
    "        mask = inputs['attention_mask']\n",
    "        token_type_ids = inputs[\"token_type_ids\"]\n",
    "        \n",
    "        \n",
    "        return {\n",
    "            'ids': torch.tensor(ids, dtype=torch.int),\n",
    "            'mask': torch.tensor(mask, dtype=torch.int),\n",
    "            'token_type_ids': torch.tensor(token_type_ids, dtype=torch.int),\n",
    "            'target': torch.tensor(target, dtype=torch.float)\n",
    "        }\n"
   ]
  },
  {
   "cell_type": "code",
   "execution_count": 17,
   "id": "22d229d4",
   "metadata": {},
   "outputs": [],
   "source": [
    "class SberNewsModel(nn.Module):\n",
    "    def __init__(self, model_name):\n",
    "        super(SberNewsModel, self).__init__()\n",
    "        self.model = AutoModel.from_pretrained(model_name)\n",
    "        self.drop = nn.Dropout(p=0.2)\n",
    "        self.fc = nn.Linear(768, CONFIG['num_classes'])\n",
    "        \n",
    "    def forward(self, ids, mask, token_type_ids):\n",
    "        _, features = self.model(input_ids=ids, attention_mask=mask, token_type_ids = token_type_ids, return_dict=False)\n",
    "        out = self.drop(features)\n",
    "        outputs = self.fc(out)\n",
    "        \n",
    "        return outputs.squeeze()"
   ]
  },
  {
   "cell_type": "code",
   "execution_count": 18,
   "id": "32cf9dfa",
   "metadata": {},
   "outputs": [],
   "source": [
    "class_counts = np.unique(df.label, return_counts=True)\n",
    "'''class_counts\n",
    "class_counts[1].sum()'''\n",
    "w = [(class_counts[1].sum() - x)/ (x+1e-5) for i, x in enumerate(class_counts[1])]"
   ]
  },
  {
   "cell_type": "code",
   "execution_count": 19,
   "id": "ed4ff9d8",
   "metadata": {},
   "outputs": [],
   "source": [
    "def criterion(outputs, targets):\n",
    "    #print(class_counts)\n",
    "    pos_weight = torch.as_tensor(w[1], dtype=torch.float).to(CONFIG['device'])\n",
    "    return torch.nn.BCEWithLogitsLoss(pos_weight=pos_weight)(outputs, targets)"
   ]
  },
  {
   "cell_type": "code",
   "execution_count": 20,
   "id": "e8a4e199",
   "metadata": {},
   "outputs": [],
   "source": [
    "def train_one_epoch(model, optimizer, dataloader, device, epoch):\n",
    "    model.train()\n",
    "    \n",
    "    dataset_size = 0\n",
    "    running_loss = 0.0\n",
    "    \n",
    "    #Automatic Mixed Precision\n",
    "    scaler = torch.cuda.amp.GradScaler()\n",
    "    #------------------\n",
    "    \n",
    "    score_batch = []\n",
    "    \n",
    "    bar = tqdm(enumerate(dataloader), total=len(dataloader))\n",
    "    for step, data in bar:\n",
    "            \n",
    "        \n",
    "        ids = data['ids'].to(device, dtype = torch.int)\n",
    "        mask = data['mask'].to(device, dtype = torch.int)\n",
    "        token_type_ids = data['token_type_ids'].to(device, dtype = torch.int)\n",
    "        targets = data['target'].to(device, dtype=torch.float)\n",
    "\n",
    "        batch_size = ids.size(0)\n",
    "\n",
    "        #Automatic Mixed Precision\n",
    "        with torch.cuda.amp.autocast():\n",
    "        #------------------\n",
    "            outputs = model(ids, mask, token_type_ids)\n",
    "            \n",
    "            #print(outputs)\n",
    "            #print(targets)\n",
    "            \n",
    "            loss = criterion(outputs, targets)\n",
    "            \n",
    "            \n",
    "        \n",
    "        #Automatic Mixed Precision\n",
    "        scaler.scale(loss).backward()\n",
    "        #------------------\n",
    "\n",
    "                \n",
    "        #optimizer.step()\n",
    "            \n",
    "        #Automatic Mixed Precision\n",
    "        scaler.step(optimizer)\n",
    "        scaler.update()\n",
    "        #------------------\n",
    "        optimizer.zero_grad()\n",
    " \n",
    "        running_loss += (loss.item() * batch_size)\n",
    "        dataset_size += batch_size\n",
    "\n",
    "        epoch_loss = running_loss / dataset_size\n",
    "\n",
    "        bar.set_postfix(Epoch=epoch, Train_Loss=epoch_loss,\n",
    "                            LR=optimizer.param_groups[0]['lr'])\n",
    "    gc.collect()\n",
    "    return epoch_loss\n"
   ]
  },
  {
   "cell_type": "code",
   "execution_count": 21,
   "id": "febba625",
   "metadata": {},
   "outputs": [],
   "source": [
    "@torch.no_grad()\n",
    "def valid_one_epoch(model, dataloader, device, epoch):\n",
    "    model.eval()\n",
    "    \n",
    "    dataset_size = 0\n",
    "    running_loss = 0.0\n",
    "    \n",
    "    accuracy_batch = []\n",
    "    balanced_accuracy_score_batch = []\n",
    "    \n",
    "    epoch_targets=[]\n",
    "    epoch_outputs=[]\n",
    "    \n",
    "    bar = tqdm(enumerate(dataloader), total=len(dataloader))\n",
    "    for step, data in bar:        \n",
    "        ids = data['ids'].to(device, dtype = torch.int)\n",
    "        mask = data['mask'].to(device, dtype = torch.int)\n",
    "        token_type_ids = data['token_type_ids'].to(device, dtype = torch.int)\n",
    "        targets = data['target'].to(device, dtype=torch.float)\n",
    "        \n",
    "        batch_size = ids.size(0)\n",
    "\n",
    "        outputs = model(ids, mask, token_type_ids)\n",
    "        \n",
    "        loss = criterion(outputs, targets)\n",
    "        \n",
    "        #print(f\"outputs ({outputs})\")\n",
    "        epoch_targets.extend(targets.cpu().detach().numpy().tolist())\n",
    "        epoch_outputs.extend(torch.sigmoid(outputs).cpu().detach().numpy().tolist())\n",
    "        \n",
    "        #print(f\"out_detach_sigmoid ({out_detach_sigmoid})\")\n",
    "        #print(f\"targets_detach ({targets_detach})\")\n",
    "        \n",
    "        #print(f\"accuracy_batch ({accuracy_batch})\")\n",
    "        \n",
    "        running_loss += (loss.item() * batch_size)\n",
    "        dataset_size += batch_size\n",
    "        \n",
    "        epoch_loss = running_loss / dataset_size\n",
    "        \n",
    "        epoch_accuracy = np.mean(accuracy_batch)\n",
    "        epoch_balanced_accuracy_score = np.mean(balanced_accuracy_score_batch)\n",
    "        \n",
    "        bar.set_postfix(Epoch=epoch, Valid_Loss=epoch_loss,\n",
    "                        LR=optimizer.param_groups[0]['lr'])   \n",
    "    \n",
    "    gc.collect()\n",
    "    return epoch_loss, epoch_outputs, epoch_targets\n"
   ]
  },
  {
   "cell_type": "code",
   "execution_count": 22,
   "id": "e5ae106a",
   "metadata": {},
   "outputs": [],
   "source": [
    "def run_training(model, optimizer, device, num_epochs, fold):\n",
    "    \n",
    "    if torch.cuda.is_available():\n",
    "        print(\"[INFO] Using GPU: {}\\n\".format(torch.cuda.get_device_name()))\n",
    "    \n",
    "    start = time.time()\n",
    "    best_model_wts = copy.deepcopy(model.state_dict())\n",
    "    best_epoch_f1_score = 0\n",
    "    history = defaultdict(list)\n",
    "    \n",
    "    epochs_no_improve = 0\n",
    "    \n",
    "    for epoch in range(1, num_epochs + 1): \n",
    "        gc.collect()\n",
    "        train_epoch_loss = train_one_epoch(model, optimizer,  \n",
    "                                           dataloader=train_loader, \n",
    "                                           device=CONFIG['device'], epoch=epoch)\n",
    "        \n",
    "        val_epoch_loss, epoch_outputs, epoch_targets = valid_one_epoch(model, valid_loader, device=CONFIG['device'], \n",
    "                                         epoch=epoch)\n",
    "        #print(f\"Validation epoch_outputs ({epoch_outputs})\")\n",
    "        #print(f\"Validation epoch_targets ({epoch_targets})\")\n",
    "        \n",
    "        roc_auc_score = metrics.roc_auc_score(epoch_targets, epoch_outputs)\n",
    "        \n",
    "        epoch_outputs = np.array(epoch_outputs) >= 0.5\n",
    "        accuracy_score = metrics.accuracy_score(epoch_targets, epoch_outputs)\n",
    "        balanced_accuracy_score = metrics.balanced_accuracy_score(epoch_targets, epoch_outputs)\n",
    "        f1_score = metrics.f1_score(epoch_targets, epoch_outputs)\n",
    "        recall_score = metrics.recall_score(epoch_targets, epoch_outputs)\n",
    "        precision_score = metrics.precision_score(epoch_targets, epoch_outputs)\n",
    "    \n",
    "        history['Train Loss'].append(train_epoch_loss)\n",
    "        history['Valid Loss'].append(val_epoch_loss)\n",
    "        print(f\"Validation roc auc score ({roc_auc_score})\")\n",
    "        print(f\"Validation accuracy ({accuracy_score})\")\n",
    "        print(f\"Validation balanced accuracy score ({balanced_accuracy_score})\")\n",
    "        print(f\"Validation f1 score ({f1_score})\")\n",
    "        print(f\"Validation recall score ({recall_score})\")\n",
    "        print(f\"Validation precision score ({precision_score})\")\n",
    "        \n",
    "        \n",
    "        # deep copy the model\n",
    "        if f1_score >= best_epoch_f1_score:\n",
    "            print(f\"Validation f1 score Improved ({best_epoch_f1_score} ---> {f1_score})\")\n",
    "            best_epoch_f1_score = f1_score\n",
    "            history[\"Best f1 score\"].append(f1_score)\n",
    "            best_model_wts = copy.deepcopy(model.state_dict())\n",
    "            PATH = f\"Loss-Fold-{fold}.bin\"\n",
    "            torch.save(model.state_dict(), PATH)\n",
    "            # Save a model file from the current directory\n",
    "            print(f\"Model Saved\")\n",
    "        else:\n",
    "            epochs_no_improve += 1\n",
    "            if epochs_no_improve >= CONFIG[\"patience\"]:\n",
    "                print('Early stopping!' )\n",
    "                print()\n",
    "                break\n",
    "            \n",
    "        print()\n",
    "    \n",
    "    end = time.time()\n",
    "    time_elapsed = end - start\n",
    "    print('Training complete in {:.0f}h {:.0f}m {:.0f}s'.format(\n",
    "        time_elapsed // 3600, (time_elapsed % 3600) // 60, (time_elapsed % 3600) % 60))\n",
    "    print(\"Best f1_score: {:.4f}\".format(best_epoch_f1_score))\n",
    "    \n",
    "    # load best model weights\n",
    "    model.load_state_dict(best_model_wts)\n",
    "    \n",
    "    return model, history"
   ]
  },
  {
   "cell_type": "code",
   "execution_count": 23,
   "id": "454d1228",
   "metadata": {},
   "outputs": [],
   "source": [
    "def prepare_loaders():\n",
    "    df_train = df[df.kfold != fold].reset_index(drop=True)\n",
    "    df_valid = df[df.kfold == fold].reset_index(drop=True)\n",
    "    \n",
    "    train_dataset = SberNewsDataset(df_train, tokenizer=CONFIG['tokenizer'], max_length=CONFIG['max_length'])\n",
    "    valid_dataset = SberNewsDataset(df_valid, tokenizer=CONFIG['tokenizer'], max_length=CONFIG['max_length'])\n",
    "\n",
    "    train_loader = DataLoader(train_dataset, batch_size=CONFIG['train_batch_size'], \n",
    "                              num_workers=2, shuffle=True, pin_memory=True)\n",
    "    valid_loader = DataLoader(valid_dataset, batch_size=CONFIG['valid_batch_size'], \n",
    "                              num_workers=2, shuffle=False, pin_memory=True)\n",
    "    \n",
    "    return train_loader, valid_loader"
   ]
  },
  {
   "cell_type": "code",
   "execution_count": 24,
   "id": "99525e8e",
   "metadata": {},
   "outputs": [
    {
     "name": "stdout",
     "output_type": "stream",
     "text": [
      "====== Fold: 0 ======\n"
     ]
    },
    {
     "name": "stderr",
     "output_type": "stream",
     "text": [
      "Some weights of the model checkpoint at DeepPavlov/rubert-base-cased were not used when initializing BertModel: ['cls.predictions.transform.dense.bias', 'cls.predictions.transform.dense.weight', 'cls.predictions.transform.LayerNorm.weight', 'cls.predictions.bias', 'cls.seq_relationship.weight', 'cls.seq_relationship.bias', 'cls.predictions.decoder.bias', 'cls.predictions.decoder.weight', 'cls.predictions.transform.LayerNorm.bias']\n",
      "- This IS expected if you are initializing BertModel from the checkpoint of a model trained on another task or with another architecture (e.g. initializing a BertForSequenceClassification model from a BertForPreTraining model).\n",
      "- This IS NOT expected if you are initializing BertModel from the checkpoint of a model that you expect to be exactly identical (initializing a BertForSequenceClassification model from a BertForSequenceClassification model).\n"
     ]
    },
    {
     "name": "stdout",
     "output_type": "stream",
     "text": [
      "[INFO] Using GPU: NVIDIA GeForce RTX 2080\n",
      "\n"
     ]
    },
    {
     "name": "stderr",
     "output_type": "stream",
     "text": [
      "100%|█████| 167/167 [00:32<00:00,  5.17it/s, Epoch=1, LR=1e-5, Train_Loss=0.925]\n",
      "100%|███████| 21/21 [00:02<00:00,  7.22it/s, Epoch=1, LR=1e-5, Valid_Loss=0.628]\n"
     ]
    },
    {
     "name": "stdout",
     "output_type": "stream",
     "text": [
      "Validation roc auc score (0.9237901402080506)\n",
      "Validation accuracy (0.8323353293413174)\n",
      "Validation balanced accuracy score (0.8612618724559022)\n",
      "Validation f1 score (0.6818181818181818)\n",
      "Validation recall score (0.9090909090909091)\n",
      "Validation precision score (0.5454545454545454)\n",
      "Validation f1 score Improved (0 ---> 0.6818181818181818)\n",
      "Model Saved\n",
      "\n"
     ]
    },
    {
     "name": "stderr",
     "output_type": "stream",
     "text": [
      "100%|█████| 167/167 [00:32<00:00,  5.18it/s, Epoch=2, LR=1e-5, Train_Loss=0.447]\n",
      "100%|███████| 21/21 [00:02<00:00,  7.14it/s, Epoch=2, LR=1e-5, Valid_Loss=0.718]\n"
     ]
    },
    {
     "name": "stdout",
     "output_type": "stream",
     "text": [
      "Validation roc auc score (0.9348145635459068)\n",
      "Validation accuracy (0.7365269461077845)\n",
      "Validation balanced accuracy score (0.812980551786522)\n",
      "Validation f1 score (0.5849056603773585)\n",
      "Validation recall score (0.9393939393939394)\n",
      "Validation precision score (0.4246575342465753)\n",
      "\n"
     ]
    },
    {
     "name": "stderr",
     "output_type": "stream",
     "text": [
      "100%|█████| 167/167 [00:32<00:00,  5.13it/s, Epoch=3, LR=1e-5, Train_Loss=0.279]\n",
      "100%|███████| 21/21 [00:02<00:00,  7.12it/s, Epoch=3, LR=1e-5, Valid_Loss=0.586]\n"
     ]
    },
    {
     "name": "stdout",
     "output_type": "stream",
     "text": [
      "Validation roc auc score (0.9293306196291271)\n",
      "Validation accuracy (0.8922155688622755)\n",
      "Validation balanced accuracy score (0.8871551334237902)\n",
      "Validation f1 score (0.7631578947368421)\n",
      "Validation recall score (0.8787878787878788)\n",
      "Validation precision score (0.6744186046511628)\n",
      "Validation f1 score Improved (0.6818181818181818 ---> 0.7631578947368421)\n",
      "Model Saved\n",
      "\n"
     ]
    },
    {
     "name": "stderr",
     "output_type": "stream",
     "text": [
      "100%|█████| 167/167 [00:32<00:00,  5.11it/s, Epoch=4, LR=1e-5, Train_Loss=0.181]\n",
      "100%|███████| 21/21 [00:02<00:00,  7.07it/s, Epoch=4, LR=1e-5, Valid_Loss=0.626]\n"
     ]
    },
    {
     "name": "stdout",
     "output_type": "stream",
     "text": [
      "Validation roc auc score (0.9339099954771599)\n",
      "Validation accuracy (0.9011976047904192)\n",
      "Validation balanced accuracy score (0.8870420624151967)\n",
      "Validation f1 score (0.7755102040816326)\n",
      "Validation recall score (0.8636363636363636)\n",
      "Validation precision score (0.7037037037037037)\n",
      "Validation f1 score Improved (0.7631578947368421 ---> 0.7755102040816326)\n",
      "Model Saved\n",
      "\n"
     ]
    },
    {
     "name": "stderr",
     "output_type": "stream",
     "text": [
      "100%|█████| 167/167 [00:32<00:00,  5.11it/s, Epoch=5, LR=1e-5, Train_Loss=0.115]\n",
      "100%|███████| 21/21 [00:02<00:00,  7.08it/s, Epoch=5, LR=1e-5, Valid_Loss=0.674]\n"
     ]
    },
    {
     "name": "stdout",
     "output_type": "stream",
     "text": [
      "Validation roc auc score (0.9428991406603346)\n",
      "Validation accuracy (0.8982035928143712)\n",
      "Validation balanced accuracy score (0.9023066485753053)\n",
      "Validation f1 score (0.7792207792207791)\n",
      "Validation recall score (0.9090909090909091)\n",
      "Validation precision score (0.6818181818181818)\n",
      "Validation f1 score Improved (0.7755102040816326 ---> 0.7792207792207791)\n",
      "Model Saved\n",
      "\n"
     ]
    },
    {
     "name": "stderr",
     "output_type": "stream",
     "text": [
      "100%|█████| 167/167 [00:32<00:00,  5.12it/s, Epoch=6, LR=1e-5, Train_Loss=0.067]\n",
      "100%|███████| 21/21 [00:02<00:00,  7.06it/s, Epoch=6, LR=1e-5, Valid_Loss=0.783]\n"
     ]
    },
    {
     "name": "stdout",
     "output_type": "stream",
     "text": [
      "Validation roc auc score (0.93458842152872)\n",
      "Validation accuracy (0.8682634730538922)\n",
      "Validation balanced accuracy score (0.8779398462234282)\n",
      "Validation f1 score (0.7283950617283952)\n",
      "Validation recall score (0.8939393939393939)\n",
      "Validation precision score (0.6145833333333334)\n",
      "Early stopping!\n",
      "\n",
      "Training complete in 0h 3m 39s\n",
      "Best f1_score: 0.7792\n",
      "\n",
      "====== Fold: 1 ======\n"
     ]
    },
    {
     "name": "stderr",
     "output_type": "stream",
     "text": [
      "Some weights of the model checkpoint at DeepPavlov/rubert-base-cased were not used when initializing BertModel: ['cls.predictions.transform.dense.bias', 'cls.predictions.transform.dense.weight', 'cls.predictions.transform.LayerNorm.weight', 'cls.predictions.bias', 'cls.seq_relationship.weight', 'cls.seq_relationship.bias', 'cls.predictions.decoder.bias', 'cls.predictions.decoder.weight', 'cls.predictions.transform.LayerNorm.bias']\n",
      "- This IS expected if you are initializing BertModel from the checkpoint of a model trained on another task or with another architecture (e.g. initializing a BertForSequenceClassification model from a BertForPreTraining model).\n",
      "- This IS NOT expected if you are initializing BertModel from the checkpoint of a model that you expect to be exactly identical (initializing a BertForSequenceClassification model from a BertForSequenceClassification model).\n"
     ]
    },
    {
     "name": "stdout",
     "output_type": "stream",
     "text": [
      "[INFO] Using GPU: NVIDIA GeForce RTX 2080\n",
      "\n"
     ]
    },
    {
     "name": "stderr",
     "output_type": "stream",
     "text": [
      "100%|█████| 167/167 [00:32<00:00,  5.14it/s, Epoch=1, LR=1e-5, Train_Loss=0.943]\n",
      "100%|███████| 21/21 [00:02<00:00,  7.05it/s, Epoch=1, LR=1e-5, Valid_Loss=0.564]\n"
     ]
    },
    {
     "name": "stdout",
     "output_type": "stream",
     "text": [
      "Validation roc auc score (0.9334577114427861)\n",
      "Validation accuracy (0.8353293413173652)\n",
      "Validation balanced accuracy score (0.8631275440976933)\n",
      "Validation f1 score (0.6857142857142857)\n",
      "Validation recall score (0.9090909090909091)\n",
      "Validation precision score (0.5504587155963303)\n",
      "Validation f1 score Improved (0 ---> 0.6857142857142857)\n",
      "Model Saved\n",
      "\n"
     ]
    },
    {
     "name": "stderr",
     "output_type": "stream",
     "text": [
      "100%|█████| 167/167 [00:32<00:00,  5.09it/s, Epoch=2, LR=1e-5, Train_Loss=0.443]\n",
      "100%|███████| 21/21 [00:02<00:00,  7.04it/s, Epoch=2, LR=1e-5, Valid_Loss=0.571]\n"
     ]
    },
    {
     "name": "stdout",
     "output_type": "stream",
     "text": [
      "Validation roc auc score (0.9525101763907734)\n",
      "Validation accuracy (0.8203592814371258)\n",
      "Validation balanced accuracy score (0.8595092718227046)\n",
      "Validation f1 score (0.6703296703296703)\n",
      "Validation recall score (0.9242424242424242)\n",
      "Validation precision score (0.5258620689655172)\n",
      "\n"
     ]
    },
    {
     "name": "stderr",
     "output_type": "stream",
     "text": [
      "100%|█████| 167/167 [00:32<00:00,  5.10it/s, Epoch=3, LR=1e-5, Train_Loss=0.271]\n",
      "100%|███████| 21/21 [00:02<00:00,  7.03it/s, Epoch=3, LR=1e-5, Valid_Loss=0.528]\n"
     ]
    },
    {
     "name": "stdout",
     "output_type": "stream",
     "text": [
      "Validation roc auc score (0.9493441881501583)\n",
      "Validation accuracy (0.8712574850299402)\n",
      "Validation balanced accuracy score (0.8855156037991858)\n",
      "Validation f1 score (0.7361963190184049)\n",
      "Validation recall score (0.9090909090909091)\n",
      "Validation precision score (0.6185567010309279)\n",
      "Validation f1 score Improved (0.6857142857142857 ---> 0.7361963190184049)\n",
      "Model Saved\n",
      "\n"
     ]
    },
    {
     "name": "stderr",
     "output_type": "stream",
     "text": [
      "100%|█████| 167/167 [00:32<00:00,  5.11it/s, Epoch=4, LR=1e-5, Train_Loss=0.164]\n",
      "100%|███████| 21/21 [00:02<00:00,  7.04it/s, Epoch=4, LR=1e-5, Valid_Loss=0.565]\n"
     ]
    },
    {
     "name": "stdout",
     "output_type": "stream",
     "text": [
      "Validation roc auc score (0.9568068747173225)\n",
      "Validation accuracy (0.8772455089820359)\n",
      "Validation balanced accuracy score (0.877826775214835)\n",
      "Validation f1 score (0.7388535031847132)\n",
      "Validation recall score (0.8787878787878788)\n",
      "Validation precision score (0.6373626373626373)\n",
      "Validation f1 score Improved (0.7361963190184049 ---> 0.7388535031847132)\n",
      "Model Saved\n",
      "\n"
     ]
    },
    {
     "name": "stderr",
     "output_type": "stream",
     "text": [
      "100%|█████| 167/167 [00:32<00:00,  5.12it/s, Epoch=5, LR=1e-5, Train_Loss=0.132]\n",
      "100%|███████| 21/21 [00:02<00:00,  7.06it/s, Epoch=5, LR=1e-5, Valid_Loss=0.688]\n"
     ]
    },
    {
     "name": "stdout",
     "output_type": "stream",
     "text": [
      "Validation roc auc score (0.9490049751243781)\n",
      "Validation accuracy (0.9041916167664671)\n",
      "Validation balanced accuracy score (0.8774875621890548)\n",
      "Validation f1 score (0.7746478873239436)\n",
      "Validation recall score (0.8333333333333334)\n",
      "Validation precision score (0.7236842105263158)\n",
      "Validation f1 score Improved (0.7388535031847132 ---> 0.7746478873239436)\n",
      "Model Saved\n",
      "\n"
     ]
    },
    {
     "name": "stderr",
     "output_type": "stream",
     "text": [
      "100%|████| 167/167 [00:32<00:00,  5.12it/s, Epoch=6, LR=1e-5, Train_Loss=0.0697]\n",
      "100%|████████| 21/21 [00:02<00:00,  7.04it/s, Epoch=6, LR=1e-5, Valid_Loss=1.09]\n"
     ]
    },
    {
     "name": "stdout",
     "output_type": "stream",
     "text": [
      "Validation roc auc score (0.9519448213478064)\n",
      "Validation accuracy (0.907185628742515)\n",
      "Validation balanced accuracy score (0.8336725463591135)\n",
      "Validation f1 score (0.7520000000000001)\n",
      "Validation recall score (0.7121212121212122)\n",
      "Validation precision score (0.7966101694915254)\n",
      "Early stopping!\n",
      "\n",
      "Training complete in 0h 3m 40s\n",
      "Best f1_score: 0.7746\n",
      "\n",
      "====== Fold: 2 ======\n"
     ]
    },
    {
     "name": "stderr",
     "output_type": "stream",
     "text": [
      "Some weights of the model checkpoint at DeepPavlov/rubert-base-cased were not used when initializing BertModel: ['cls.predictions.transform.dense.bias', 'cls.predictions.transform.dense.weight', 'cls.predictions.transform.LayerNorm.weight', 'cls.predictions.bias', 'cls.seq_relationship.weight', 'cls.seq_relationship.bias', 'cls.predictions.decoder.bias', 'cls.predictions.decoder.weight', 'cls.predictions.transform.LayerNorm.bias']\n",
      "- This IS expected if you are initializing BertModel from the checkpoint of a model trained on another task or with another architecture (e.g. initializing a BertForSequenceClassification model from a BertForPreTraining model).\n",
      "- This IS NOT expected if you are initializing BertModel from the checkpoint of a model that you expect to be exactly identical (initializing a BertForSequenceClassification model from a BertForSequenceClassification model).\n"
     ]
    },
    {
     "name": "stdout",
     "output_type": "stream",
     "text": [
      "[INFO] Using GPU: NVIDIA GeForce RTX 2080\n",
      "\n"
     ]
    },
    {
     "name": "stderr",
     "output_type": "stream",
     "text": [
      "100%|█████| 167/167 [00:32<00:00,  5.10it/s, Epoch=1, LR=1e-5, Train_Loss=0.949]\n",
      "100%|███████| 21/21 [00:03<00:00,  6.98it/s, Epoch=1, LR=1e-5, Valid_Loss=0.905]\n"
     ]
    },
    {
     "name": "stdout",
     "output_type": "stream",
     "text": [
      "Validation roc auc score (0.8854025327905926)\n",
      "Validation accuracy (0.8712574850299402)\n",
      "Validation balanced accuracy score (0.725633197648123)\n",
      "Validation f1 score (0.5981308411214953)\n",
      "Validation recall score (0.48484848484848486)\n",
      "Validation precision score (0.7804878048780488)\n",
      "Validation f1 score Improved (0 ---> 0.5981308411214953)\n",
      "Model Saved\n",
      "\n"
     ]
    },
    {
     "name": "stderr",
     "output_type": "stream",
     "text": [
      "100%|█████| 167/167 [00:32<00:00,  5.12it/s, Epoch=2, LR=1e-5, Train_Loss=0.535]\n",
      "100%|███████| 21/21 [00:02<00:00,  7.06it/s, Epoch=2, LR=1e-5, Valid_Loss=0.566]\n"
     ]
    },
    {
     "name": "stdout",
     "output_type": "stream",
     "text": [
      "Validation roc auc score (0.9474219810040706)\n",
      "Validation accuracy (0.9161676646706587)\n",
      "Validation balanced accuracy score (0.8735300768882859)\n",
      "Validation f1 score (0.7910447761194029)\n",
      "Validation recall score (0.803030303030303)\n",
      "Validation precision score (0.7794117647058824)\n",
      "Validation f1 score Improved (0.5981308411214953 ---> 0.7910447761194029)\n",
      "Model Saved\n",
      "\n"
     ]
    },
    {
     "name": "stderr",
     "output_type": "stream",
     "text": [
      "100%|██████| 167/167 [00:32<00:00,  5.08it/s, Epoch=3, LR=1e-5, Train_Loss=0.34]\n",
      "100%|███████| 21/21 [00:02<00:00,  7.05it/s, Epoch=3, LR=1e-5, Valid_Loss=0.485]\n"
     ]
    },
    {
     "name": "stdout",
     "output_type": "stream",
     "text": [
      "Validation roc auc score (0.961951605608322)\n",
      "Validation accuracy (0.9101796407185628)\n",
      "Validation balanced accuracy score (0.8755088195386703)\n",
      "Validation f1 score (0.7826086956521738)\n",
      "Validation recall score (0.8181818181818182)\n",
      "Validation precision score (0.75)\n",
      "\n"
     ]
    },
    {
     "name": "stderr",
     "output_type": "stream",
     "text": [
      "100%|█████| 167/167 [00:32<00:00,  5.09it/s, Epoch=4, LR=1e-5, Train_Loss=0.181]\n",
      "100%|███████| 21/21 [00:02<00:00,  7.07it/s, Epoch=4, LR=1e-5, Valid_Loss=0.565]\n"
     ]
    },
    {
     "name": "stdout",
     "output_type": "stream",
     "text": [
      "Validation roc auc score (0.960085933966531)\n",
      "Validation accuracy (0.9161676646706587)\n",
      "Validation balanced accuracy score (0.8792401628222524)\n",
      "Validation f1 score (0.7941176470588236)\n",
      "Validation recall score (0.8181818181818182)\n",
      "Validation precision score (0.7714285714285715)\n",
      "Validation f1 score Improved (0.7910447761194029 ---> 0.7941176470588236)\n",
      "Model Saved\n",
      "\n"
     ]
    },
    {
     "name": "stderr",
     "output_type": "stream",
     "text": [
      "100%|█████| 167/167 [00:32<00:00,  5.12it/s, Epoch=5, LR=1e-5, Train_Loss=0.126]\n",
      "100%|████████| 21/21 [00:02<00:00,  7.06it/s, Epoch=5, LR=1e-5, Valid_Loss=0.63]\n"
     ]
    },
    {
     "name": "stdout",
     "output_type": "stream",
     "text": [
      "Validation roc auc score (0.9572026232473995)\n",
      "Validation accuracy (0.9011976047904192)\n",
      "Validation balanced accuracy score (0.8756218905472637)\n",
      "Validation f1 score (0.7692307692307692)\n",
      "Validation recall score (0.8333333333333334)\n",
      "Validation precision score (0.7142857142857143)\n",
      "Early stopping!\n",
      "\n",
      "Training complete in 0h 3m 3s\n",
      "Best f1_score: 0.7941\n",
      "\n",
      "====== Fold: 3 ======\n"
     ]
    },
    {
     "name": "stderr",
     "output_type": "stream",
     "text": [
      "Some weights of the model checkpoint at DeepPavlov/rubert-base-cased were not used when initializing BertModel: ['cls.predictions.transform.dense.bias', 'cls.predictions.transform.dense.weight', 'cls.predictions.transform.LayerNorm.weight', 'cls.predictions.bias', 'cls.seq_relationship.weight', 'cls.seq_relationship.bias', 'cls.predictions.decoder.bias', 'cls.predictions.decoder.weight', 'cls.predictions.transform.LayerNorm.bias']\n",
      "- This IS expected if you are initializing BertModel from the checkpoint of a model trained on another task or with another architecture (e.g. initializing a BertForSequenceClassification model from a BertForPreTraining model).\n",
      "- This IS NOT expected if you are initializing BertModel from the checkpoint of a model that you expect to be exactly identical (initializing a BertForSequenceClassification model from a BertForSequenceClassification model).\n"
     ]
    },
    {
     "name": "stdout",
     "output_type": "stream",
     "text": [
      "[INFO] Using GPU: NVIDIA GeForce RTX 2080\n",
      "\n"
     ]
    },
    {
     "name": "stderr",
     "output_type": "stream",
     "text": [
      "100%|██████| 167/167 [00:32<00:00,  5.13it/s, Epoch=1, LR=1e-5, Train_Loss=1.08]\n",
      "100%|███████| 21/21 [00:02<00:00,  7.04it/s, Epoch=1, LR=1e-5, Valid_Loss=0.819]\n"
     ]
    },
    {
     "name": "stdout",
     "output_type": "stream",
     "text": [
      "Validation roc auc score (0.8969923111714156)\n",
      "Validation accuracy (0.6736526946107785)\n",
      "Validation balanced accuracy score (0.7795115332428766)\n",
      "Validation f1 score (0.5361702127659576)\n",
      "Validation recall score (0.9545454545454546)\n",
      "Validation precision score (0.3727810650887574)\n",
      "Validation f1 score Improved (0 ---> 0.5361702127659576)\n",
      "Model Saved\n",
      "\n"
     ]
    },
    {
     "name": "stderr",
     "output_type": "stream",
     "text": [
      "100%|█████| 167/167 [00:32<00:00,  5.11it/s, Epoch=2, LR=1e-5, Train_Loss=0.573]\n",
      "100%|███████| 21/21 [00:02<00:00,  7.01it/s, Epoch=2, LR=1e-5, Valid_Loss=0.391]\n"
     ]
    },
    {
     "name": "stdout",
     "output_type": "stream",
     "text": [
      "Validation roc auc score (0.9728629579375847)\n",
      "Validation accuracy (0.8473053892215568)\n",
      "Validation balanced accuracy score (0.8877204884667571)\n",
      "Validation f1 score (0.711864406779661)\n",
      "Validation recall score (0.9545454545454546)\n",
      "Validation precision score (0.5675675675675675)\n",
      "Validation f1 score Improved (0.5361702127659576 ---> 0.711864406779661)\n",
      "Model Saved\n",
      "\n"
     ]
    },
    {
     "name": "stderr",
     "output_type": "stream",
     "text": [
      "100%|█████| 167/167 [00:32<00:00,  5.10it/s, Epoch=3, LR=1e-5, Train_Loss=0.304]\n",
      "100%|███████| 21/21 [00:03<00:00,  6.99it/s, Epoch=3, LR=1e-5, Valid_Loss=0.412]\n"
     ]
    },
    {
     "name": "stdout",
     "output_type": "stream",
     "text": [
      "Validation roc auc score (0.961951605608322)\n",
      "Validation accuracy (0.8652694610778443)\n",
      "Validation balanced accuracy score (0.8932044323835369)\n",
      "Validation f1 score (0.7337278106508875)\n",
      "Validation recall score (0.9393939393939394)\n",
      "Validation precision score (0.6019417475728155)\n",
      "Validation f1 score Improved (0.711864406779661 ---> 0.7337278106508875)\n",
      "Model Saved\n",
      "\n"
     ]
    },
    {
     "name": "stderr",
     "output_type": "stream",
     "text": [
      "100%|█████| 167/167 [00:32<00:00,  5.08it/s, Epoch=4, LR=1e-5, Train_Loss=0.226]\n",
      "100%|███████| 21/21 [00:02<00:00,  7.07it/s, Epoch=4, LR=1e-5, Valid_Loss=0.473]\n"
     ]
    },
    {
     "name": "stdout",
     "output_type": "stream",
     "text": [
      "Validation roc auc score (0.9704884667571234)\n",
      "Validation accuracy (0.8473053892215568)\n",
      "Validation balanced accuracy score (0.8877204884667571)\n",
      "Validation f1 score (0.711864406779661)\n",
      "Validation recall score (0.9545454545454546)\n",
      "Validation precision score (0.5675675675675675)\n",
      "\n"
     ]
    },
    {
     "name": "stderr",
     "output_type": "stream",
     "text": [
      "100%|█████| 167/167 [00:32<00:00,  5.11it/s, Epoch=5, LR=1e-5, Train_Loss=0.113]\n",
      "100%|█████████| 21/21 [00:02<00:00,  7.05it/s, Epoch=5, LR=1e-5, Valid_Loss=1.2]\n"
     ]
    },
    {
     "name": "stdout",
     "output_type": "stream",
     "text": [
      "Validation roc auc score (0.9575418362731796)\n",
      "Validation accuracy (0.907185628742515)\n",
      "Validation balanced accuracy score (0.7879918588873813)\n",
      "Validation f1 score (0.7155963302752293)\n",
      "Validation recall score (0.5909090909090909)\n",
      "Validation precision score (0.9069767441860465)\n",
      "Early stopping!\n",
      "\n",
      "Training complete in 0h 3m 3s\n",
      "Best f1_score: 0.7337\n",
      "\n",
      "====== Fold: 4 ======\n"
     ]
    },
    {
     "name": "stderr",
     "output_type": "stream",
     "text": [
      "Some weights of the model checkpoint at DeepPavlov/rubert-base-cased were not used when initializing BertModel: ['cls.predictions.transform.dense.bias', 'cls.predictions.transform.dense.weight', 'cls.predictions.transform.LayerNorm.weight', 'cls.predictions.bias', 'cls.seq_relationship.weight', 'cls.seq_relationship.bias', 'cls.predictions.decoder.bias', 'cls.predictions.decoder.weight', 'cls.predictions.transform.LayerNorm.bias']\n",
      "- This IS expected if you are initializing BertModel from the checkpoint of a model trained on another task or with another architecture (e.g. initializing a BertForSequenceClassification model from a BertForPreTraining model).\n",
      "- This IS NOT expected if you are initializing BertModel from the checkpoint of a model that you expect to be exactly identical (initializing a BertForSequenceClassification model from a BertForSequenceClassification model).\n"
     ]
    },
    {
     "name": "stdout",
     "output_type": "stream",
     "text": [
      "[INFO] Using GPU: NVIDIA GeForce RTX 2080\n",
      "\n"
     ]
    },
    {
     "name": "stderr",
     "output_type": "stream",
     "text": [
      "100%|██████| 167/167 [00:32<00:00,  5.09it/s, Epoch=1, LR=1e-5, Train_Loss=1.04]\n",
      "100%|███████| 21/21 [00:02<00:00,  7.07it/s, Epoch=1, LR=1e-5, Valid_Loss=0.766]\n"
     ]
    },
    {
     "name": "stdout",
     "output_type": "stream",
     "text": [
      "Validation roc auc score (0.9332376578645235)\n",
      "Validation accuracy (0.7267267267267268)\n",
      "Validation balanced accuracy score (0.8069173363949483)\n",
      "Validation f1 score (0.5727699530516432)\n",
      "Validation recall score (0.9384615384615385)\n",
      "Validation precision score (0.41216216216216217)\n",
      "Validation f1 score Improved (0 ---> 0.5727699530516432)\n",
      "Model Saved\n",
      "\n"
     ]
    },
    {
     "name": "stderr",
     "output_type": "stream",
     "text": [
      "100%|█████| 167/167 [00:32<00:00,  5.12it/s, Epoch=2, LR=1e-5, Train_Loss=0.579]\n",
      "100%|███████| 21/21 [00:02<00:00,  7.11it/s, Epoch=2, LR=1e-5, Valid_Loss=0.482]\n"
     ]
    },
    {
     "name": "stdout",
     "output_type": "stream",
     "text": [
      "Validation roc auc score (0.9499425947187141)\n",
      "Validation accuracy (0.8768768768768769)\n",
      "Validation balanced accuracy score (0.8885476463834673)\n",
      "Validation f1 score (0.7421383647798743)\n",
      "Validation recall score (0.9076923076923077)\n",
      "Validation precision score (0.6276595744680851)\n",
      "Validation f1 score Improved (0.5727699530516432 ---> 0.7421383647798743)\n",
      "Model Saved\n",
      "\n"
     ]
    },
    {
     "name": "stderr",
     "output_type": "stream",
     "text": [
      "100%|█████| 167/167 [00:32<00:00,  5.09it/s, Epoch=3, LR=1e-5, Train_Loss=0.336]\n",
      "100%|███████| 21/21 [00:02<00:00,  7.06it/s, Epoch=3, LR=1e-5, Valid_Loss=0.434]\n"
     ]
    },
    {
     "name": "stdout",
     "output_type": "stream",
     "text": [
      "Validation roc auc score (0.9590700344431689)\n",
      "Validation accuracy (0.8978978978978979)\n",
      "Validation balanced accuracy score (0.8957807118254879)\n",
      "Validation f1 score (0.7733333333333334)\n",
      "Validation recall score (0.8923076923076924)\n",
      "Validation precision score (0.6823529411764706)\n",
      "Validation f1 score Improved (0.7421383647798743 ---> 0.7733333333333334)\n",
      "Model Saved\n",
      "\n"
     ]
    },
    {
     "name": "stderr",
     "output_type": "stream",
     "text": [
      "100%|█████| 167/167 [00:33<00:00,  5.05it/s, Epoch=4, LR=1e-5, Train_Loss=0.191]\n",
      "100%|███████| 21/21 [00:02<00:00,  7.03it/s, Epoch=4, LR=1e-5, Valid_Loss=0.627]\n"
     ]
    },
    {
     "name": "stdout",
     "output_type": "stream",
     "text": [
      "Validation roc auc score (0.9367393800229622)\n",
      "Validation accuracy (0.933933933933934)\n",
      "Validation balanced accuracy score (0.8832089552238807)\n",
      "Validation f1 score (0.8253968253968254)\n",
      "Validation recall score (0.8)\n",
      "Validation precision score (0.8524590163934426)\n",
      "Validation f1 score Improved (0.7733333333333334 ---> 0.8253968253968254)\n",
      "Model Saved\n",
      "\n"
     ]
    },
    {
     "name": "stderr",
     "output_type": "stream",
     "text": [
      "100%|█████| 167/167 [00:32<00:00,  5.09it/s, Epoch=5, LR=1e-5, Train_Loss=0.182]\n",
      "100%|███████| 21/21 [00:02<00:00,  7.04it/s, Epoch=5, LR=1e-5, Valid_Loss=0.522]\n"
     ]
    },
    {
     "name": "stdout",
     "output_type": "stream",
     "text": [
      "Validation roc auc score (0.9648105625717566)\n",
      "Validation accuracy (0.8858858858858859)\n",
      "Validation balanced accuracy score (0.8941446613088404)\n",
      "Validation f1 score (0.7564102564102564)\n",
      "Validation recall score (0.9076923076923077)\n",
      "Validation precision score (0.6483516483516484)\n",
      "\n"
     ]
    },
    {
     "name": "stderr",
     "output_type": "stream",
     "text": [
      "100%|█████| 167/167 [00:32<00:00,  5.11it/s, Epoch=6, LR=1e-5, Train_Loss=0.109]\n",
      "100%|███████| 21/21 [00:02<00:00,  7.06it/s, Epoch=6, LR=1e-5, Valid_Loss=0.534]\n"
     ]
    },
    {
     "name": "stdout",
     "output_type": "stream",
     "text": [
      "Validation roc auc score (0.9644087256027555)\n",
      "Validation accuracy (0.9099099099099099)\n",
      "Validation balanced accuracy score (0.9090700344431688)\n",
      "Validation f1 score (0.7972972972972974)\n",
      "Validation recall score (0.9076923076923077)\n",
      "Validation precision score (0.7108433734939759)\n",
      "Early stopping!\n",
      "\n",
      "Training complete in 0h 3m 41s\n",
      "Best f1_score: 0.8254\n",
      "\n"
     ]
    }
   ],
   "source": [
    "for fold in range(0, CONFIG['n_fold']):\n",
    "    print(f\"====== Fold: {fold} ======\")\n",
    "    \n",
    "    # Create Dataloaders\n",
    "    train_loader, valid_loader = prepare_loaders()\n",
    "    \n",
    "    model = SberNewsModel(CONFIG['model_name'])\n",
    "    model.to(CONFIG['device'])\n",
    "    \n",
    "    # Define Optimizer\n",
    "    optimizer = AdamW(model.parameters(), lr=CONFIG['learning_rate'], eps=CONFIG['epsilon'], weight_decay=CONFIG['weight_decay'])\n",
    "    \n",
    "    model, history = run_training(model, optimizer,\n",
    "                                  device=CONFIG['device'],\n",
    "                                  num_epochs=CONFIG['epochs'],\n",
    "                                  fold=fold)\n",
    "    \n",
    "    \n",
    "    del model, history, train_loader, valid_loader\n",
    "    _ = gc.collect()\n",
    "    print()\n",
    "    "
   ]
  },
  {
   "cell_type": "code",
   "execution_count": null,
   "id": "f5e26a83",
   "metadata": {},
   "outputs": [],
   "source": []
  }
 ],
 "metadata": {
  "kernelspec": {
   "display_name": "Python 3 (ipykernel)",
   "language": "python",
   "name": "python3"
  },
  "language_info": {
   "codemirror_mode": {
    "name": "ipython",
    "version": 3
   },
   "file_extension": ".py",
   "mimetype": "text/x-python",
   "name": "python",
   "nbconvert_exporter": "python",
   "pygments_lexer": "ipython3",
   "version": "3.8.10"
  }
 },
 "nbformat": 4,
 "nbformat_minor": 5
}
