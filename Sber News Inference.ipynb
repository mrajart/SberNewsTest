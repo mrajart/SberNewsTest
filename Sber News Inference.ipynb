{
 "cells": [
  {
   "cell_type": "code",
   "execution_count": 1,
   "id": "f7f64dad",
   "metadata": {},
   "outputs": [],
   "source": [
    "import os\n",
    "import gc\n",
    "import cv2\n",
    "import copy\n",
    "import time\n",
    "import random\n",
    "\n",
    "# For data manipulation\n",
    "import numpy as np\n",
    "import pandas as pd\n",
    "\n",
    "# Pytorch Imports\n",
    "import torch\n",
    "import torch.nn as nn\n",
    "from torch.utils.data import Dataset, DataLoader\n",
    "\n",
    "# For Transformer Models\n",
    "from transformers import AutoTokenizer, AutoModel\n",
    "\n",
    "#Text Cleaning\n",
    "from bs4 import BeautifulSoup\n",
    "import re \n",
    "\n",
    "# Utils\n",
    "from tqdm import tqdm\n",
    "\n",
    "# For descriptive error messages\n",
    "os.environ['CUDA_LAUNCH_BLOCKING'] = \"1\""
   ]
  },
  {
   "cell_type": "code",
   "execution_count": 2,
   "id": "5fb1667d",
   "metadata": {},
   "outputs": [],
   "source": [
    "CONFIG = dict(\n",
    "    seed = 2021,\n",
    "    model_name = \"DeepPavlov/rubert-base-cased\",\n",
    "    test_batch_size = 32,\n",
    "    max_length = 256,\n",
    "    num_classes = 1,\n",
    "    device = torch.device(\"cuda\" if torch.cuda.is_available() else \"cpu\")\n",
    ")\n",
    "\n",
    "CONFIG[\"tokenizer\"] = AutoTokenizer.from_pretrained(CONFIG['model_name'])"
   ]
  },
  {
   "cell_type": "code",
   "execution_count": 3,
   "id": "a336bf05",
   "metadata": {},
   "outputs": [
    {
     "data": {
      "text/html": [
       "<div>\n",
       "<style scoped>\n",
       "    .dataframe tbody tr th:only-of-type {\n",
       "        vertical-align: middle;\n",
       "    }\n",
       "\n",
       "    .dataframe tbody tr th {\n",
       "        vertical-align: top;\n",
       "    }\n",
       "\n",
       "    .dataframe thead th {\n",
       "        text-align: right;\n",
       "    }\n",
       "</style>\n",
       "<table border=\"1\" class=\"dataframe\">\n",
       "  <thead>\n",
       "    <tr style=\"text-align: right;\">\n",
       "      <th></th>\n",
       "      <th>title</th>\n",
       "      <th>text</th>\n",
       "    </tr>\n",
       "    <tr>\n",
       "      <th>id</th>\n",
       "      <th></th>\n",
       "      <th></th>\n",
       "    </tr>\n",
       "  </thead>\n",
       "  <tbody>\n",
       "    <tr>\n",
       "      <th>0</th>\n",
       "      <td>Графики обслуживания внутриквартирного и внутр...</td>\n",
       "      <td>В соответствии с п.42 Постановления Правительс...</td>\n",
       "    </tr>\n",
       "    <tr>\n",
       "      <th>1</th>\n",
       "      <td>На МЦД улучшили поезда</td>\n",
       "      <td>В Москве, на Белорусско-Савеловском центрально...</td>\n",
       "    </tr>\n",
       "    <tr>\n",
       "      <th>2</th>\n",
       "      <td>Катастрофа SSJ 100: вина за гибель 41 человека...</td>\n",
       "      <td>Завершено расследование дела о крушении самоле...</td>\n",
       "    </tr>\n",
       "    <tr>\n",
       "      <th>3</th>\n",
       "      <td>С Днем юриста!</td>\n",
       "      <td>От души поздравляем сотрудников и преподавател...</td>\n",
       "    </tr>\n",
       "    <tr>\n",
       "      <th>4</th>\n",
       "      <td>Охота на \"черного\" лесоруба</td>\n",
       "      <td>В Костроме прошел межрегиональный форум, посвя...</td>\n",
       "    </tr>\n",
       "  </tbody>\n",
       "</table>\n",
       "</div>"
      ],
      "text/plain": [
       "                                                title  \\\n",
       "id                                                      \n",
       "0   Графики обслуживания внутриквартирного и внутр...   \n",
       "1                              На МЦД улучшили поезда   \n",
       "2   Катастрофа SSJ 100: вина за гибель 41 человека...   \n",
       "3                                      С Днем юриста!   \n",
       "4                         Охота на \"черного\" лесоруба   \n",
       "\n",
       "                                                 text  \n",
       "id                                                     \n",
       "0   В соответствии с п.42 Постановления Правительс...  \n",
       "1   В Москве, на Белорусско-Савеловском центрально...  \n",
       "2   Завершено расследование дела о крушении самоле...  \n",
       "3   От души поздравляем сотрудников и преподавател...  \n",
       "4   В Костроме прошел межрегиональный форум, посвя...  "
      ]
     },
     "execution_count": 3,
     "metadata": {},
     "output_type": "execute_result"
    }
   ],
   "source": [
    "df = pd.read_csv(\"input/test_data.csv\", index_col=\"id\")\n",
    "df = df.drop('Unnamed: 0', axis=1)\n",
    "df.head()"
   ]
  },
  {
   "cell_type": "code",
   "execution_count": 4,
   "id": "e5768f60",
   "metadata": {},
   "outputs": [],
   "source": [
    "df[\"text_new\"]=df.title.apply(lambda x: str(x) + \". \")+df[\"text\"].apply(str)"
   ]
  },
  {
   "cell_type": "code",
   "execution_count": 5,
   "id": "995ed094",
   "metadata": {},
   "outputs": [
    {
     "data": {
      "text/html": [
       "<div>\n",
       "<style scoped>\n",
       "    .dataframe tbody tr th:only-of-type {\n",
       "        vertical-align: middle;\n",
       "    }\n",
       "\n",
       "    .dataframe tbody tr th {\n",
       "        vertical-align: top;\n",
       "    }\n",
       "\n",
       "    .dataframe thead th {\n",
       "        text-align: right;\n",
       "    }\n",
       "</style>\n",
       "<table border=\"1\" class=\"dataframe\">\n",
       "  <thead>\n",
       "    <tr style=\"text-align: right;\">\n",
       "      <th></th>\n",
       "      <th>title</th>\n",
       "      <th>text</th>\n",
       "      <th>text_new</th>\n",
       "    </tr>\n",
       "    <tr>\n",
       "      <th>id</th>\n",
       "      <th></th>\n",
       "      <th></th>\n",
       "      <th></th>\n",
       "    </tr>\n",
       "  </thead>\n",
       "  <tbody>\n",
       "    <tr>\n",
       "      <th>0</th>\n",
       "      <td>Графики обслуживания внутриквартирного и внутр...</td>\n",
       "      <td>В соответствии с п.42 Постановления Правительс...</td>\n",
       "      <td>Графики обслуживания внутриквартирного и внутр...</td>\n",
       "    </tr>\n",
       "    <tr>\n",
       "      <th>1</th>\n",
       "      <td>На МЦД улучшили поезда</td>\n",
       "      <td>В Москве, на Белорусско-Савеловском центрально...</td>\n",
       "      <td>На МЦД улучшили поезда. В Москве, на Белорусск...</td>\n",
       "    </tr>\n",
       "    <tr>\n",
       "      <th>2</th>\n",
       "      <td>Катастрофа SSJ 100: вина за гибель 41 человека...</td>\n",
       "      <td>Завершено расследование дела о крушении самоле...</td>\n",
       "      <td>Катастрофа SSJ 100: вина за гибель 41 человека...</td>\n",
       "    </tr>\n",
       "    <tr>\n",
       "      <th>3</th>\n",
       "      <td>С Днем юриста!</td>\n",
       "      <td>От души поздравляем сотрудников и преподавател...</td>\n",
       "      <td>С Днем юриста!. От души поздравляем сотруднико...</td>\n",
       "    </tr>\n",
       "    <tr>\n",
       "      <th>4</th>\n",
       "      <td>Охота на \"черного\" лесоруба</td>\n",
       "      <td>В Костроме прошел межрегиональный форум, посвя...</td>\n",
       "      <td>Охота на \"черного\" лесоруба. В Костроме прошел...</td>\n",
       "    </tr>\n",
       "  </tbody>\n",
       "</table>\n",
       "</div>"
      ],
      "text/plain": [
       "                                                title  \\\n",
       "id                                                      \n",
       "0   Графики обслуживания внутриквартирного и внутр...   \n",
       "1                              На МЦД улучшили поезда   \n",
       "2   Катастрофа SSJ 100: вина за гибель 41 человека...   \n",
       "3                                      С Днем юриста!   \n",
       "4                         Охота на \"черного\" лесоруба   \n",
       "\n",
       "                                                 text  \\\n",
       "id                                                      \n",
       "0   В соответствии с п.42 Постановления Правительс...   \n",
       "1   В Москве, на Белорусско-Савеловском центрально...   \n",
       "2   Завершено расследование дела о крушении самоле...   \n",
       "3   От души поздравляем сотрудников и преподавател...   \n",
       "4   В Костроме прошел межрегиональный форум, посвя...   \n",
       "\n",
       "                                             text_new  \n",
       "id                                                     \n",
       "0   Графики обслуживания внутриквартирного и внутр...  \n",
       "1   На МЦД улучшили поезда. В Москве, на Белорусск...  \n",
       "2   Катастрофа SSJ 100: вина за гибель 41 человека...  \n",
       "3   С Днем юриста!. От души поздравляем сотруднико...  \n",
       "4   Охота на \"черного\" лесоруба. В Костроме прошел...  "
      ]
     },
     "execution_count": 5,
     "metadata": {},
     "output_type": "execute_result"
    }
   ],
   "source": [
    "df.head()"
   ]
  },
  {
   "cell_type": "code",
   "execution_count": 6,
   "id": "7e3bbc22",
   "metadata": {},
   "outputs": [],
   "source": [
    "MODEL_PATHS = [\n",
    "    'Loss-Fold-0.bin',\n",
    "    'Loss-Fold-1.bin',\n",
    "    'Loss-Fold-2.bin',\n",
    "    'Loss-Fold-3.bin',\n",
    "    'Loss-Fold-4.bin'\n",
    "]"
   ]
  },
  {
   "cell_type": "code",
   "execution_count": 7,
   "id": "528ca28d",
   "metadata": {},
   "outputs": [],
   "source": [
    "def set_seed(seed = 42):\n",
    "    '''Sets the seed of the entire notebook so results are the same every time we run.\n",
    "    This is for REPRODUCIBILITY.'''\n",
    "    np.random.seed(seed)\n",
    "    random.seed(seed)\n",
    "    torch.manual_seed(seed)\n",
    "    torch.cuda.manual_seed(seed)\n",
    "    # When running on the CuDNN backend, two further options must be set\n",
    "    torch.backends.cudnn.deterministic = True\n",
    "    torch.backends.cudnn.benchmark = False\n",
    "    # Set a fixed value for the hash seed\n",
    "    os.environ['PYTHONHASHSEED'] = str(seed)\n",
    "    \n",
    "set_seed(CONFIG['seed'])"
   ]
  },
  {
   "cell_type": "code",
   "execution_count": 8,
   "id": "dc5f360b",
   "metadata": {},
   "outputs": [],
   "source": [
    "def text_cleaning(text):\n",
    "    '''\n",
    "    Cleans text into a basic form for NLP. Operations include the following:-\n",
    "    1. Remove special charecters like &, #, etc\n",
    "    2. Removes extra spaces\n",
    "    3. Removes embedded URL links\n",
    "    4. Removes HTML tags\n",
    "    5. Removes emojis\n",
    "    \n",
    "    text - Text piece to be cleaned.\n",
    "    '''\n",
    "    template = re.compile(r'https?://\\S+|www\\.\\S+') #Removes website links\n",
    "    text = template.sub(r'', text)\n",
    "    \n",
    "    soup = BeautifulSoup(text, 'lxml') #Removes HTML tags\n",
    "    only_text = soup.get_text()\n",
    "    text = only_text\n",
    "    \n",
    "    emoji_pattern = re.compile(\"[\"\n",
    "                               u\"\\U0001F600-\\U0001F64F\"  # emoticons\n",
    "                               u\"\\U0001F300-\\U0001F5FF\"  # symbols & pictographs\n",
    "                               u\"\\U0001F680-\\U0001F6FF\"  # transport & map symbols\n",
    "                               u\"\\U0001F1E0-\\U0001F1FF\"  # flags (iOS)\n",
    "                               u\"\\U00002702-\\U000027B0\"\n",
    "                               u\"\\U000024C2-\\U0001F251\"\n",
    "                               \"]+\", flags=re.UNICODE)\n",
    "    text = emoji_pattern.sub(r'', text)\n",
    "    \n",
    "    text = re.sub(' +', ' ', text) #Remove Extra Spaces\n",
    "    text = text.strip() # remove spaces at the beginning and at the end of string\n",
    "\n",
    "    return text"
   ]
  },
  {
   "cell_type": "code",
   "execution_count": 9,
   "id": "f41a035d",
   "metadata": {},
   "outputs": [],
   "source": [
    "df.text_new = df.text_new.apply(text_cleaning)"
   ]
  },
  {
   "cell_type": "code",
   "execution_count": 10,
   "id": "11d092cc",
   "metadata": {},
   "outputs": [],
   "source": [
    "class SberNewsDataset(Dataset):\n",
    "    def __init__(self, df, tokenizer, max_length):\n",
    "        self.df = df\n",
    "        self.max_len = max_length\n",
    "        self.tokenizer = tokenizer\n",
    "        self.text = df.text_new\n",
    "        \n",
    "    def __len__(self):\n",
    "        return len(self.df)\n",
    "    \n",
    "    def __getitem__(self, index):\n",
    "        text = self.text[index]\n",
    "        inputs = self.tokenizer.encode_plus(\n",
    "                                text,\n",
    "                                truncation=True,\n",
    "                                add_special_tokens=True,\n",
    "                                max_length=self.max_len,\n",
    "                                padding='max_length',\n",
    "                                return_token_type_ids=True\n",
    "                            )\n",
    "        \n",
    "        ids = inputs['input_ids']\n",
    "        mask = inputs['attention_mask']\n",
    "        token_type_ids = inputs[\"token_type_ids\"]\n",
    "        \n",
    "        \n",
    "        return {\n",
    "            'ids': torch.tensor(ids, dtype=torch.long),\n",
    "            'mask': torch.tensor(mask, dtype=torch.long),\n",
    "            'token_type_ids': torch.tensor(token_type_ids, dtype=torch.long)\n",
    "        }"
   ]
  },
  {
   "cell_type": "code",
   "execution_count": 11,
   "id": "6dd2a7a0",
   "metadata": {},
   "outputs": [],
   "source": [
    "test_dataset = SberNewsDataset(df, CONFIG['tokenizer'], max_length=CONFIG['max_length'])\n",
    "test_loader = DataLoader(test_dataset, batch_size=CONFIG['test_batch_size'],\n",
    "                         num_workers=2, shuffle=False, pin_memory=True)"
   ]
  },
  {
   "cell_type": "code",
   "execution_count": 12,
   "id": "9e37f23c",
   "metadata": {},
   "outputs": [],
   "source": [
    "class SberNewsModel(nn.Module):\n",
    "    def __init__(self, model_name):\n",
    "        super(SberNewsModel, self).__init__()\n",
    "        self.model = AutoModel.from_pretrained(model_name)\n",
    "        self.drop = nn.Dropout(p=0.2)\n",
    "        self.fc = nn.Linear(768, CONFIG['num_classes'])\n",
    "        self.sigmoid = nn.Sigmoid()\n",
    "        \n",
    "    def forward(self, ids, mask, token_type_ids):\n",
    "        _, features = self.model(input_ids=ids, attention_mask=mask, token_type_ids = token_type_ids, return_dict=False)\n",
    "        out = self.drop(features)\n",
    "        outputs = self.fc(out)\n",
    "        outputs = self.sigmoid(outputs.squeeze())\n",
    "        \n",
    "        return outputs\n"
   ]
  },
  {
   "cell_type": "code",
   "execution_count": 13,
   "id": "4e9b8f4e",
   "metadata": {},
   "outputs": [],
   "source": [
    "@torch.no_grad()\n",
    "def valid_fn(model, dataloader, device):\n",
    "    model.eval()\n",
    "    \n",
    "    dataset_size = 0\n",
    "    running_loss = 0.0\n",
    "    \n",
    "    PREDS = []\n",
    "    \n",
    "    bar = tqdm(enumerate(dataloader), total=len(dataloader))\n",
    "    for step, data in bar:\n",
    "        ids = data['ids'].to(device, dtype = torch.long)\n",
    "        mask = data['mask'].to(device, dtype = torch.long)\n",
    "        token_type_ids = data['token_type_ids'].to(device, dtype = torch.long)\n",
    "        \n",
    "        outputs = model(ids, mask, token_type_ids)\n",
    "        PREDS.append(outputs.view(-1).cpu().detach().numpy()) \n",
    "    \n",
    "    PREDS = np.concatenate(PREDS)\n",
    "    gc.collect()\n",
    "    \n",
    "    return PREDS"
   ]
  },
  {
   "cell_type": "code",
   "execution_count": 14,
   "id": "ec3b5c5c",
   "metadata": {},
   "outputs": [],
   "source": [
    "def inference(model_paths, dataloader, device):\n",
    "    final_preds = []\n",
    "    for i, path in enumerate(model_paths):\n",
    "        model = SberNewsModel(CONFIG['model_name'])\n",
    "        model.to(CONFIG['device'])\n",
    "        model.load_state_dict(torch.load(path))\n",
    "        \n",
    "        print(f\"Getting predictions for model {i+1}\")\n",
    "        preds = valid_fn(model, dataloader, device)\n",
    "        final_preds.append(preds)\n",
    "    \n",
    "    final_preds = np.array(final_preds)\n",
    "    final_preds = np.mean(final_preds, axis=0)\n",
    "    return final_preds\n"
   ]
  },
  {
   "cell_type": "code",
   "execution_count": 15,
   "id": "5aaaa68b",
   "metadata": {},
   "outputs": [
    {
     "name": "stderr",
     "output_type": "stream",
     "text": [
      "Some weights of the model checkpoint at DeepPavlov/rubert-base-cased were not used when initializing BertModel: ['cls.predictions.transform.LayerNorm.weight', 'cls.seq_relationship.bias', 'cls.predictions.transform.dense.weight', 'cls.predictions.decoder.bias', 'cls.seq_relationship.weight', 'cls.predictions.transform.dense.bias', 'cls.predictions.transform.LayerNorm.bias', 'cls.predictions.bias', 'cls.predictions.decoder.weight']\n",
      "- This IS expected if you are initializing BertModel from the checkpoint of a model trained on another task or with another architecture (e.g. initializing a BertForSequenceClassification model from a BertForPreTraining model).\n",
      "- This IS NOT expected if you are initializing BertModel from the checkpoint of a model that you expect to be exactly identical (initializing a BertForSequenceClassification model from a BertForSequenceClassification model).\n"
     ]
    },
    {
     "name": "stdout",
     "output_type": "stream",
     "text": [
      "Getting predictions for model 1\n"
     ]
    },
    {
     "name": "stderr",
     "output_type": "stream",
     "text": [
      "100%|█████████████████████████████████████████| 331/331 [01:25<00:00,  3.87it/s]\n",
      "Some weights of the model checkpoint at DeepPavlov/rubert-base-cased were not used when initializing BertModel: ['cls.predictions.transform.LayerNorm.weight', 'cls.seq_relationship.bias', 'cls.predictions.transform.dense.weight', 'cls.predictions.decoder.bias', 'cls.seq_relationship.weight', 'cls.predictions.transform.dense.bias', 'cls.predictions.transform.LayerNorm.bias', 'cls.predictions.bias', 'cls.predictions.decoder.weight']\n",
      "- This IS expected if you are initializing BertModel from the checkpoint of a model trained on another task or with another architecture (e.g. initializing a BertForSequenceClassification model from a BertForPreTraining model).\n",
      "- This IS NOT expected if you are initializing BertModel from the checkpoint of a model that you expect to be exactly identical (initializing a BertForSequenceClassification model from a BertForSequenceClassification model).\n"
     ]
    },
    {
     "name": "stdout",
     "output_type": "stream",
     "text": [
      "Getting predictions for model 2\n"
     ]
    },
    {
     "name": "stderr",
     "output_type": "stream",
     "text": [
      "100%|█████████████████████████████████████████| 331/331 [01:30<00:00,  3.67it/s]\n",
      "Some weights of the model checkpoint at DeepPavlov/rubert-base-cased were not used when initializing BertModel: ['cls.predictions.transform.LayerNorm.weight', 'cls.seq_relationship.bias', 'cls.predictions.transform.dense.weight', 'cls.predictions.decoder.bias', 'cls.seq_relationship.weight', 'cls.predictions.transform.dense.bias', 'cls.predictions.transform.LayerNorm.bias', 'cls.predictions.bias', 'cls.predictions.decoder.weight']\n",
      "- This IS expected if you are initializing BertModel from the checkpoint of a model trained on another task or with another architecture (e.g. initializing a BertForSequenceClassification model from a BertForPreTraining model).\n",
      "- This IS NOT expected if you are initializing BertModel from the checkpoint of a model that you expect to be exactly identical (initializing a BertForSequenceClassification model from a BertForSequenceClassification model).\n"
     ]
    },
    {
     "name": "stdout",
     "output_type": "stream",
     "text": [
      "Getting predictions for model 3\n"
     ]
    },
    {
     "name": "stderr",
     "output_type": "stream",
     "text": [
      "100%|█████████████████████████████████████████| 331/331 [01:29<00:00,  3.71it/s]\n",
      "Some weights of the model checkpoint at DeepPavlov/rubert-base-cased were not used when initializing BertModel: ['cls.predictions.transform.LayerNorm.weight', 'cls.seq_relationship.bias', 'cls.predictions.transform.dense.weight', 'cls.predictions.decoder.bias', 'cls.seq_relationship.weight', 'cls.predictions.transform.dense.bias', 'cls.predictions.transform.LayerNorm.bias', 'cls.predictions.bias', 'cls.predictions.decoder.weight']\n",
      "- This IS expected if you are initializing BertModel from the checkpoint of a model trained on another task or with another architecture (e.g. initializing a BertForSequenceClassification model from a BertForPreTraining model).\n",
      "- This IS NOT expected if you are initializing BertModel from the checkpoint of a model that you expect to be exactly identical (initializing a BertForSequenceClassification model from a BertForSequenceClassification model).\n"
     ]
    },
    {
     "name": "stdout",
     "output_type": "stream",
     "text": [
      "Getting predictions for model 4\n"
     ]
    },
    {
     "name": "stderr",
     "output_type": "stream",
     "text": [
      "100%|█████████████████████████████████████████| 331/331 [01:28<00:00,  3.72it/s]\n",
      "Some weights of the model checkpoint at DeepPavlov/rubert-base-cased were not used when initializing BertModel: ['cls.predictions.transform.LayerNorm.weight', 'cls.seq_relationship.bias', 'cls.predictions.transform.dense.weight', 'cls.predictions.decoder.bias', 'cls.seq_relationship.weight', 'cls.predictions.transform.dense.bias', 'cls.predictions.transform.LayerNorm.bias', 'cls.predictions.bias', 'cls.predictions.decoder.weight']\n",
      "- This IS expected if you are initializing BertModel from the checkpoint of a model trained on another task or with another architecture (e.g. initializing a BertForSequenceClassification model from a BertForPreTraining model).\n",
      "- This IS NOT expected if you are initializing BertModel from the checkpoint of a model that you expect to be exactly identical (initializing a BertForSequenceClassification model from a BertForSequenceClassification model).\n"
     ]
    },
    {
     "name": "stdout",
     "output_type": "stream",
     "text": [
      "Getting predictions for model 5\n"
     ]
    },
    {
     "name": "stderr",
     "output_type": "stream",
     "text": [
      "100%|█████████████████████████████████████████| 331/331 [01:28<00:00,  3.73it/s]\n"
     ]
    }
   ],
   "source": [
    "preds = inference(MODEL_PATHS, test_loader, CONFIG['device'])"
   ]
  },
  {
   "cell_type": "code",
   "execution_count": 16,
   "id": "eef2bf14",
   "metadata": {},
   "outputs": [
    {
     "name": "stdout",
     "output_type": "stream",
     "text": [
      "Total Predictiions: 10571\n",
      "Total Unique Predictions: 10318\n"
     ]
    }
   ],
   "source": [
    "print(f\"Total Predictiions: {preds.shape[0]}\")\n",
    "print(f\"Total Unique Predictions: {np.unique(preds).shape[0]}\")"
   ]
  },
  {
   "cell_type": "code",
   "execution_count": 17,
   "id": "34c64a53",
   "metadata": {},
   "outputs": [
    {
     "data": {
      "text/html": [
       "<div>\n",
       "<style scoped>\n",
       "    .dataframe tbody tr th:only-of-type {\n",
       "        vertical-align: middle;\n",
       "    }\n",
       "\n",
       "    .dataframe tbody tr th {\n",
       "        vertical-align: top;\n",
       "    }\n",
       "\n",
       "    .dataframe thead th {\n",
       "        text-align: right;\n",
       "    }\n",
       "</style>\n",
       "<table border=\"1\" class=\"dataframe\">\n",
       "  <thead>\n",
       "    <tr style=\"text-align: right;\">\n",
       "      <th></th>\n",
       "      <th>title</th>\n",
       "      <th>text</th>\n",
       "      <th>text_new</th>\n",
       "      <th>prediction</th>\n",
       "    </tr>\n",
       "    <tr>\n",
       "      <th>id</th>\n",
       "      <th></th>\n",
       "      <th></th>\n",
       "      <th></th>\n",
       "      <th></th>\n",
       "    </tr>\n",
       "  </thead>\n",
       "  <tbody>\n",
       "    <tr>\n",
       "      <th>0</th>\n",
       "      <td>Графики обслуживания внутриквартирного и внутр...</td>\n",
       "      <td>В соответствии с п.42 Постановления Правительс...</td>\n",
       "      <td>Графики обслуживания внутриквартирного и внутр...</td>\n",
       "      <td>0.031191</td>\n",
       "    </tr>\n",
       "    <tr>\n",
       "      <th>1</th>\n",
       "      <td>На МЦД улучшили поезда</td>\n",
       "      <td>В Москве, на Белорусско-Савеловском центрально...</td>\n",
       "      <td>На МЦД улучшили поезда. В Москве, на Белорусск...</td>\n",
       "      <td>0.032953</td>\n",
       "    </tr>\n",
       "    <tr>\n",
       "      <th>2</th>\n",
       "      <td>Катастрофа SSJ 100: вина за гибель 41 человека...</td>\n",
       "      <td>Завершено расследование дела о крушении самоле...</td>\n",
       "      <td>Катастрофа SSJ 100: вина за гибель 41 человека...</td>\n",
       "      <td>0.037305</td>\n",
       "    </tr>\n",
       "    <tr>\n",
       "      <th>3</th>\n",
       "      <td>С Днем юриста!</td>\n",
       "      <td>От души поздравляем сотрудников и преподавател...</td>\n",
       "      <td>С Днем юриста!. От души поздравляем сотруднико...</td>\n",
       "      <td>0.016447</td>\n",
       "    </tr>\n",
       "    <tr>\n",
       "      <th>4</th>\n",
       "      <td>Охота на \"черного\" лесоруба</td>\n",
       "      <td>В Костроме прошел межрегиональный форум, посвя...</td>\n",
       "      <td>Охота на \"черного\" лесоруба. В Костроме прошел...</td>\n",
       "      <td>0.025331</td>\n",
       "    </tr>\n",
       "  </tbody>\n",
       "</table>\n",
       "</div>"
      ],
      "text/plain": [
       "                                                title  \\\n",
       "id                                                      \n",
       "0   Графики обслуживания внутриквартирного и внутр...   \n",
       "1                              На МЦД улучшили поезда   \n",
       "2   Катастрофа SSJ 100: вина за гибель 41 человека...   \n",
       "3                                      С Днем юриста!   \n",
       "4                         Охота на \"черного\" лесоруба   \n",
       "\n",
       "                                                 text  \\\n",
       "id                                                      \n",
       "0   В соответствии с п.42 Постановления Правительс...   \n",
       "1   В Москве, на Белорусско-Савеловском центрально...   \n",
       "2   Завершено расследование дела о крушении самоле...   \n",
       "3   От души поздравляем сотрудников и преподавател...   \n",
       "4   В Костроме прошел межрегиональный форум, посвя...   \n",
       "\n",
       "                                             text_new  prediction  \n",
       "id                                                                 \n",
       "0   Графики обслуживания внутриквартирного и внутр...    0.031191  \n",
       "1   На МЦД улучшили поезда. В Москве, на Белорусск...    0.032953  \n",
       "2   Катастрофа SSJ 100: вина за гибель 41 человека...    0.037305  \n",
       "3   С Днем юриста!. От души поздравляем сотруднико...    0.016447  \n",
       "4   Охота на \"черного\" лесоруба. В Костроме прошел...    0.025331  "
      ]
     },
     "execution_count": 17,
     "metadata": {},
     "output_type": "execute_result"
    }
   ],
   "source": [
    "df['prediction'] = preds\n",
    "df.head()"
   ]
  },
  {
   "cell_type": "code",
   "execution_count": 20,
   "id": "5d592be5",
   "metadata": {},
   "outputs": [
    {
     "data": {
      "text/html": [
       "<div>\n",
       "<style scoped>\n",
       "    .dataframe tbody tr th:only-of-type {\n",
       "        vertical-align: middle;\n",
       "    }\n",
       "\n",
       "    .dataframe tbody tr th {\n",
       "        vertical-align: top;\n",
       "    }\n",
       "\n",
       "    .dataframe thead th {\n",
       "        text-align: right;\n",
       "    }\n",
       "</style>\n",
       "<table border=\"1\" class=\"dataframe\">\n",
       "  <thead>\n",
       "    <tr style=\"text-align: right;\">\n",
       "      <th></th>\n",
       "      <th>title</th>\n",
       "      <th>text</th>\n",
       "      <th>prediction</th>\n",
       "    </tr>\n",
       "    <tr>\n",
       "      <th>id</th>\n",
       "      <th></th>\n",
       "      <th></th>\n",
       "      <th></th>\n",
       "    </tr>\n",
       "  </thead>\n",
       "  <tbody>\n",
       "    <tr>\n",
       "      <th>243</th>\n",
       "      <td>Голубев выяснял, почему затянули реконструкцию...</td>\n",
       "      <td>Местные чиновники пожаловались на подрядчика Г...</td>\n",
       "      <td>0.723632</td>\n",
       "    </tr>\n",
       "    <tr>\n",
       "      <th>274</th>\n",
       "      <td>Губернатор призвал не снижать заявленных темпо...</td>\n",
       "      <td>На еженедельном заседании рабочей группы по ре...</td>\n",
       "      <td>0.565532</td>\n",
       "    </tr>\n",
       "    <tr>\n",
       "      <th>410</th>\n",
       "      <td>Начало осуществления сталинского проекта Росси...</td>\n",
       "      <td>ОАО «РЖД» утвердило инвестиционную программу в...</td>\n",
       "      <td>0.842356</td>\n",
       "    </tr>\n",
       "    <tr>\n",
       "      <th>479</th>\n",
       "      <td>«Московский Диснейленд» не уложился в сроки //...</td>\n",
       "      <td>Московский аналог Диснейленда не успели запуст...</td>\n",
       "      <td>0.745989</td>\n",
       "    </tr>\n",
       "    <tr>\n",
       "      <th>506</th>\n",
       "      <td>Названы сроки закладки российских «Мистралей»</td>\n",
       "      <td>Строительство российских вертолетоносцев, явля...</td>\n",
       "      <td>0.695104</td>\n",
       "    </tr>\n",
       "    <tr>\n",
       "      <th>584</th>\n",
       "      <td>Уральские власти отказались проводить реноваци...</td>\n",
       "      <td>В Екатеринбурге в ближайшее время не будет зап...</td>\n",
       "      <td>0.638070</td>\n",
       "    </tr>\n",
       "    <tr>\n",
       "      <th>618</th>\n",
       "      <td>В «Титановой долине» сорваны сроки строительст...</td>\n",
       "      <td>В управляющей компании ОЭЗ обещают завершить о...</td>\n",
       "      <td>0.973945</td>\n",
       "    </tr>\n",
       "    <tr>\n",
       "      <th>723</th>\n",
       "      <td>Смольный уперся в землю</td>\n",
       "      <td>Власти снова обсуждают возможный разрыв контра...</td>\n",
       "      <td>0.781740</td>\n",
       "    </tr>\n",
       "    <tr>\n",
       "      <th>737</th>\n",
       "      <td>Депутат — правительству: Признайте, что не смо...</td>\n",
       "      <td>Комитет Жогорку Кенеша по конституционному зак...</td>\n",
       "      <td>0.644755</td>\n",
       "    </tr>\n",
       "    <tr>\n",
       "      <th>1035</th>\n",
       "      <td>Прерванное три года назад строительство учебно...</td>\n",
       "      <td>Строительство учебно-тренировочного центра МЧС...</td>\n",
       "      <td>0.602485</td>\n",
       "    </tr>\n",
       "  </tbody>\n",
       "</table>\n",
       "</div>"
      ],
      "text/plain": [
       "                                                  title  \\\n",
       "id                                                        \n",
       "243   Голубев выяснял, почему затянули реконструкцию...   \n",
       "274   Губернатор призвал не снижать заявленных темпо...   \n",
       "410   Начало осуществления сталинского проекта Росси...   \n",
       "479   «Московский Диснейленд» не уложился в сроки //...   \n",
       "506       Названы сроки закладки российских «Мистралей»   \n",
       "584   Уральские власти отказались проводить реноваци...   \n",
       "618   В «Титановой долине» сорваны сроки строительст...   \n",
       "723                             Смольный уперся в землю   \n",
       "737   Депутат — правительству: Признайте, что не смо...   \n",
       "1035  Прерванное три года назад строительство учебно...   \n",
       "\n",
       "                                                   text  prediction  \n",
       "id                                                                   \n",
       "243   Местные чиновники пожаловались на подрядчика Г...    0.723632  \n",
       "274   На еженедельном заседании рабочей группы по ре...    0.565532  \n",
       "410   ОАО «РЖД» утвердило инвестиционную программу в...    0.842356  \n",
       "479   Московский аналог Диснейленда не успели запуст...    0.745989  \n",
       "506   Строительство российских вертолетоносцев, явля...    0.695104  \n",
       "584   В Екатеринбурге в ближайшее время не будет зап...    0.638070  \n",
       "618   В управляющей компании ОЭЗ обещают завершить о...    0.973945  \n",
       "723   Власти снова обсуждают возможный разрыв контра...    0.781740  \n",
       "737   Комитет Жогорку Кенеша по конституционному зак...    0.644755  \n",
       "1035  Строительство учебно-тренировочного центра МЧС...    0.602485  "
      ]
     },
     "execution_count": 20,
     "metadata": {},
     "output_type": "execute_result"
    }
   ],
   "source": [
    "df[df['prediction']>= 0.5].head(10)"
   ]
  },
  {
   "cell_type": "code",
   "execution_count": 19,
   "id": "d5db1310",
   "metadata": {},
   "outputs": [],
   "source": [
    "df.drop('text_new', axis=1, inplace=True)\n",
    "df.to_csv(\"test_data.csv\")"
   ]
  },
  {
   "cell_type": "code",
   "execution_count": null,
   "id": "87fb03ca",
   "metadata": {},
   "outputs": [],
   "source": []
  }
 ],
 "metadata": {
  "kernelspec": {
   "display_name": "Python 3 (ipykernel)",
   "language": "python",
   "name": "python3"
  },
  "language_info": {
   "codemirror_mode": {
    "name": "ipython",
    "version": 3
   },
   "file_extension": ".py",
   "mimetype": "text/x-python",
   "name": "python",
   "nbconvert_exporter": "python",
   "pygments_lexer": "ipython3",
   "version": "3.8.10"
  }
 },
 "nbformat": 4,
 "nbformat_minor": 5
}
